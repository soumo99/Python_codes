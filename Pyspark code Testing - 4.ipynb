{
 "cells": [
  {
   "cell_type": "markdown",
   "id": "7439e6e7",
   "metadata": {},
   "source": [
    "# Pyspark code Testing - 4\n",
    "# Filtering using AND OR NOT "
   ]
  },
  {
   "cell_type": "code",
   "execution_count": 5,
   "id": "7d1b47c6",
   "metadata": {},
   "outputs": [
    {
     "name": "stderr",
     "output_type": "stream",
     "text": [
      "23/12/18 19:33:06 WARN Utils: Your hostname, Soumobratas-MacBook-Air.local resolves to a loopback address: 127.0.0.1; using 192.168.1.2 instead (on interface en0)\n",
      "23/12/18 19:33:06 WARN Utils: Set SPARK_LOCAL_IP if you need to bind to another address\n",
      "Setting default log level to \"WARN\".\n",
      "To adjust logging level use sc.setLogLevel(newLevel). For SparkR, use setLogLevel(newLevel).\n",
      "23/12/18 19:33:07 WARN NativeCodeLoader: Unable to load native-hadoop library for your platform... using builtin-java classes where applicable\n",
      "23/12/18 19:33:08 WARN Utils: Service 'SparkUI' could not bind on port 4040. Attempting port 4041.\n"
     ]
    }
   ],
   "source": [
    "from pyspark.sql import SparkSession\n",
    "spark = SparkSession.builder.appName('Testing_3').getOrCreate()"
   ]
  },
  {
   "cell_type": "code",
   "execution_count": 6,
   "id": "2938bed8",
   "metadata": {},
   "outputs": [
    {
     "data": {
      "text/html": [
       "\n",
       "            <div>\n",
       "                <p><b>SparkSession - in-memory</b></p>\n",
       "                \n",
       "        <div>\n",
       "            <p><b>SparkContext</b></p>\n",
       "\n",
       "            <p><a href=\"http://192.168.1.2:4041\">Spark UI</a></p>\n",
       "\n",
       "            <dl>\n",
       "              <dt>Version</dt>\n",
       "                <dd><code>v3.5.0</code></dd>\n",
       "              <dt>Master</dt>\n",
       "                <dd><code>local[*]</code></dd>\n",
       "              <dt>AppName</dt>\n",
       "                <dd><code>Testing_3</code></dd>\n",
       "            </dl>\n",
       "        </div>\n",
       "        \n",
       "            </div>\n",
       "        "
      ],
      "text/plain": [
       "<pyspark.sql.session.SparkSession at 0x10bc68040>"
      ]
     },
     "execution_count": 6,
     "metadata": {},
     "output_type": "execute_result"
    }
   ],
   "source": [
    "spark"
   ]
  },
  {
   "cell_type": "code",
   "execution_count": 7,
   "id": "1e98be23",
   "metadata": {},
   "outputs": [
    {
     "name": "stderr",
     "output_type": "stream",
     "text": [
      "                                                                                \r"
     ]
    },
    {
     "data": {
      "text/plain": [
       "DataFrame[Name: string, Age: int, City: string]"
      ]
     },
     "execution_count": 7,
     "metadata": {},
     "output_type": "execute_result"
    }
   ],
   "source": [
    "spark.read.csv('sample_dataframe.csv',header=True,inferSchema=True)"
   ]
  },
  {
   "cell_type": "code",
   "execution_count": 8,
   "id": "329c62d6",
   "metadata": {},
   "outputs": [
    {
     "name": "stdout",
     "output_type": "stream",
     "text": [
      "+---------+----+---------+\n",
      "|     Name| Age|     City|\n",
      "+---------+----+---------+\n",
      "|    Soumo|  23|Bangalore|\n",
      "|  Subrata|  53|  Chennai|\n",
      "|Anindita |  50|  Chennai|\n",
      "|  Purnima|NULL|Bangalore|\n",
      "|      Uma|  80|     NULL|\n",
      "+---------+----+---------+\n",
      "\n"
     ]
    }
   ],
   "source": [
    "spark.read.csv('sample_dataframe.csv',header=True,inferSchema=True).show()"
   ]
  },
  {
   "cell_type": "code",
   "execution_count": 9,
   "id": "4401c32d",
   "metadata": {},
   "outputs": [],
   "source": [
    "df_pyspark = spark.read.csv('sample_dataframe.csv',header=True,inferSchema=True)"
   ]
  },
  {
   "cell_type": "code",
   "execution_count": 10,
   "id": "7b24ec40",
   "metadata": {},
   "outputs": [
    {
     "name": "stdout",
     "output_type": "stream",
     "text": [
      "+---------+----+---------+\n",
      "|     Name| Age|     City|\n",
      "+---------+----+---------+\n",
      "|    Soumo|  23|Bangalore|\n",
      "|  Subrata|  53|  Chennai|\n",
      "|Anindita |  50|  Chennai|\n",
      "|  Purnima|NULL|Bangalore|\n",
      "|      Uma|  80|     NULL|\n",
      "+---------+----+---------+\n",
      "\n"
     ]
    }
   ],
   "source": [
    "df_pyspark.show()"
   ]
  },
  {
   "cell_type": "markdown",
   "id": "50fd0e63",
   "metadata": {},
   "source": [
    "Filer Operations"
   ]
  },
  {
   "cell_type": "code",
   "execution_count": 11,
   "id": "9d3f0746",
   "metadata": {},
   "outputs": [
    {
     "name": "stdout",
     "output_type": "stream",
     "text": [
      "+-----+---+---------+\n",
      "| Name|Age|     City|\n",
      "+-----+---+---------+\n",
      "|Soumo| 23|Bangalore|\n",
      "+-----+---+---------+\n",
      "\n"
     ]
    }
   ],
   "source": [
    "df_pyspark.filter(\"Age<=30\").show()"
   ]
  },
  {
   "cell_type": "markdown",
   "id": "27cee08e",
   "metadata": {},
   "source": [
    "Filter Operation with specific Columns "
   ]
  },
  {
   "cell_type": "code",
   "execution_count": 14,
   "id": "16e85645",
   "metadata": {},
   "outputs": [
    {
     "name": "stdout",
     "output_type": "stream",
     "text": [
      "+-----+---------+\n",
      "| Name|     City|\n",
      "+-----+---------+\n",
      "|Soumo|Bangalore|\n",
      "+-----+---------+\n",
      "\n"
     ]
    }
   ],
   "source": [
    "df_pyspark.filter('Age<=30').select(['Name','City']).show()"
   ]
  },
  {
   "cell_type": "markdown",
   "id": "4ad15598",
   "metadata": {},
   "source": [
    "Filtering dataframe with multiple conditions"
   ]
  },
  {
   "cell_type": "markdown",
   "id": "70bc23e3",
   "metadata": {},
   "source": [
    "AND Operation "
   ]
  },
  {
   "cell_type": "code",
   "execution_count": 18,
   "id": "f9f524fb",
   "metadata": {},
   "outputs": [
    {
     "name": "stdout",
     "output_type": "stream",
     "text": [
      "+-----+---+---------+\n",
      "| Name|Age|     City|\n",
      "+-----+---+---------+\n",
      "|Soumo| 23|Bangalore|\n",
      "+-----+---+---------+\n",
      "\n"
     ]
    }
   ],
   "source": [
    "df_pyspark.filter((df_pyspark['Age']<=30) & (df_pyspark['Age']<=80)).show()"
   ]
  },
  {
   "cell_type": "markdown",
   "id": "6f241c00",
   "metadata": {},
   "source": [
    "OR Operation"
   ]
  },
  {
   "cell_type": "code",
   "execution_count": 19,
   "id": "ce439647",
   "metadata": {},
   "outputs": [
    {
     "name": "stdout",
     "output_type": "stream",
     "text": [
      "+---------+---+---------+\n",
      "|     Name|Age|     City|\n",
      "+---------+---+---------+\n",
      "|    Soumo| 23|Bangalore|\n",
      "|  Subrata| 53|  Chennai|\n",
      "|Anindita | 50|  Chennai|\n",
      "|      Uma| 80|     NULL|\n",
      "+---------+---+---------+\n",
      "\n"
     ]
    }
   ],
   "source": [
    "df_pyspark.filter((df_pyspark['Age']<=30) | (df_pyspark['Age']<=80)).show()"
   ]
  },
  {
   "cell_type": "markdown",
   "id": "29938b2b",
   "metadata": {},
   "source": [
    "NOT Operation"
   ]
  },
  {
   "cell_type": "code",
   "execution_count": 20,
   "id": "995713fe",
   "metadata": {},
   "outputs": [
    {
     "name": "stdout",
     "output_type": "stream",
     "text": [
      "+---------+---+-------+\n",
      "|     Name|Age|   City|\n",
      "+---------+---+-------+\n",
      "|  Subrata| 53|Chennai|\n",
      "|Anindita | 50|Chennai|\n",
      "|      Uma| 80|   NULL|\n",
      "+---------+---+-------+\n",
      "\n"
     ]
    }
   ],
   "source": [
    "df_pyspark.filter(~(df_pyspark['Age']<=30) & (df_pyspark['Age']<=80)).show()"
   ]
  },
  {
   "cell_type": "code",
   "execution_count": null,
   "id": "b5ceaedc",
   "metadata": {},
   "outputs": [],
   "source": []
  }
 ],
 "metadata": {
  "kernelspec": {
   "display_name": "Python 3 (ipykernel)",
   "language": "python",
   "name": "python3"
  },
  "language_info": {
   "codemirror_mode": {
    "name": "ipython",
    "version": 3
   },
   "file_extension": ".py",
   "mimetype": "text/x-python",
   "name": "python",
   "nbconvert_exporter": "python",
   "pygments_lexer": "ipython3",
   "version": "3.9.13"
  }
 },
 "nbformat": 4,
 "nbformat_minor": 5
}
