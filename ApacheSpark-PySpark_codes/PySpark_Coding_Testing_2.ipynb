{
 "cells": [
  {
   "cell_type": "markdown",
   "id": "26898801",
   "metadata": {},
   "source": [
    "# PySpark_Coding_Testing_2\n",
    "# Basic Simple Operations - Reading , Renaming dataframe"
   ]
  },
  {
   "cell_type": "code",
   "execution_count": 1,
   "id": "96472316",
   "metadata": {},
   "outputs": [],
   "source": [
    "from pyspark.sql import SparkSession"
   ]
  },
  {
   "cell_type": "code",
   "execution_count": 2,
   "id": "97923912",
   "metadata": {},
   "outputs": [
    {
     "name": "stderr",
     "output_type": "stream",
     "text": [
      "23/12/17 20:46:57 WARN Utils: Your hostname, Soumobratas-MacBook-Air.local resolves to a loopback address: 127.0.0.1; using 192.168.1.9 instead (on interface en0)\n",
      "23/12/17 20:46:57 WARN Utils: Set SPARK_LOCAL_IP if you need to bind to another address\n",
      "Setting default log level to \"WARN\".\n",
      "To adjust logging level use sc.setLogLevel(newLevel). For SparkR, use setLogLevel(newLevel).\n",
      "23/12/17 20:46:59 WARN NativeCodeLoader: Unable to load native-hadoop library for your platform... using builtin-java classes where applicable\n",
      "23/12/17 20:47:00 WARN Utils: Service 'SparkUI' could not bind on port 4040. Attempting port 4041.\n",
      "23/12/17 20:47:00 WARN Utils: Service 'SparkUI' could not bind on port 4041. Attempting port 4042.\n"
     ]
    }
   ],
   "source": [
    "spark = SparkSession.builder.appName('Dataframe').getOrCreate()"
   ]
  },
  {
   "cell_type": "code",
   "execution_count": 3,
   "id": "8301ebba",
   "metadata": {},
   "outputs": [
    {
     "data": {
      "text/html": [
       "\n",
       "            <div>\n",
       "                <p><b>SparkSession - in-memory</b></p>\n",
       "                \n",
       "        <div>\n",
       "            <p><b>SparkContext</b></p>\n",
       "\n",
       "            <p><a href=\"http://192.168.1.9:4042\">Spark UI</a></p>\n",
       "\n",
       "            <dl>\n",
       "              <dt>Version</dt>\n",
       "                <dd><code>v3.5.0</code></dd>\n",
       "              <dt>Master</dt>\n",
       "                <dd><code>local[*]</code></dd>\n",
       "              <dt>AppName</dt>\n",
       "                <dd><code>Dataframe</code></dd>\n",
       "            </dl>\n",
       "        </div>\n",
       "        \n",
       "            </div>\n",
       "        "
      ],
      "text/plain": [
       "<pyspark.sql.session.SparkSession at 0x108f5be20>"
      ]
     },
     "execution_count": 3,
     "metadata": {},
     "output_type": "execute_result"
    }
   ],
   "source": [
    "spark"
   ]
  },
  {
   "cell_type": "markdown",
   "id": "bd2e66b6",
   "metadata": {},
   "source": [
    "Read the dataset"
   ]
  },
  {
   "cell_type": "code",
   "execution_count": 4,
   "id": "0c20c9ad",
   "metadata": {},
   "outputs": [
    {
     "data": {
      "text/plain": [
       "DataFrame[SLNO: string, Candidate Ref: string, DOJ Extended: string, Duration to accept offer: string, Notice period: string, Offered band: string, Pecent hike expected in CTC: string, Percent hike offered in CTC: string, Percent difference CTC: string, Joining Bonus: string, Candidate relocate actual: string, Gender: string, Candidate Source: string, Rex in Yrs: string, LOB: string, Location: string, Age: string, Status: string]"
      ]
     },
     "execution_count": 4,
     "metadata": {},
     "output_type": "execute_result"
    }
   ],
   "source": [
    "spark.read.option('header','true').csv('hr_data.csv')"
   ]
  },
  {
   "cell_type": "code",
   "execution_count": 5,
   "id": "830ee222",
   "metadata": {},
   "outputs": [
    {
     "name": "stdout",
     "output_type": "stream",
     "text": [
      "+----+-------------+------------+------------------------+-------------+------------+---------------------------+---------------------------+----------------------+-------------+-------------------------+------+-----------------+----------+----------+---------+---+----------+\n",
      "|SLNO|Candidate Ref|DOJ Extended|Duration to accept offer|Notice period|Offered band|Pecent hike expected in CTC|Percent hike offered in CTC|Percent difference CTC|Joining Bonus|Candidate relocate actual|Gender| Candidate Source|Rex in Yrs|       LOB| Location|Age|    Status|\n",
      "+----+-------------+------------+------------------------+-------------+------------+---------------------------+---------------------------+----------------------+-------------+-------------------------+------+-----------------+----------+----------+---------+---+----------+\n",
      "|   1|      2110407|         Yes|                      14|           30|          E2|                     -20.79|                      13.16|                 42.86|           No|                       No|Female|           Agency|         7|       ERS|    Noida| 34|    Joined|\n",
      "|   2|      2112635|          No|                      18|           30|          E2|                         50|                        320|                   180|           No|                       No|  Male|Employee Referral|         8|     INFRA|  Chennai| 34|    Joined|\n",
      "|   3|      2112838|          No|                       3|           45|          E2|                      42.84|                      42.84|                     0|           No|                       No|  Male|           Agency|         4|     INFRA|    Noida| 27|    Joined|\n",
      "|   4|      2115021|          No|                      26|           30|          E2|                      42.84|                      42.84|                     0|           No|                       No|  Male|Employee Referral|         4|     INFRA|    Noida| 34|    Joined|\n",
      "|   5|      2115125|         Yes|                       1|          120|          E2|                      42.59|                      42.59|                     0|           No|                      Yes|  Male|Employee Referral|         6|     INFRA|    Noida| 34|    Joined|\n",
      "|   6|      2117167|         Yes|                      17|           30|          E1|                      42.83|                      42.83|                     0|           No|                       No|  Male|Employee Referral|         2|     INFRA|    Noida| 34|    Joined|\n",
      "|   7|      2119124|         Yes|                      37|           30|          E2|                      31.58|                      31.58|                     0|           No|                       No|  Male|Employee Referral|         7|     INFRA|    Noida| 32|    Joined|\n",
      "|   9|      2127572|         Yes|                      16|            0|          E1|                        -20|                        -20|                     0|           No|                       No|Female|           Direct|         8|Healthcare|    Noida| 34|    Joined|\n",
      "|  11|      2138169|          No|                       1|           30|          E1|                     -22.22|                     -22.22|                     0|           No|                       No|Female|Employee Referral|         3|      BFSI|  Gurgaon| 26|    Joined|\n",
      "|  12|      2143362|          No|                       6|           30|          E1|                        240|                        220|                 -5.88|           No|                       No|  Male|Employee Referral|         3|      CSMP|  Chennai| 34|    Joined|\n",
      "|  13|      2151180|          No|                     120|           30|          E2|                       5.26|                     -60.53|                 -62.5|           No|                       No|  Male|Employee Referral|         3|     INFRA|    Noida| 34|Not Joined|\n",
      "|  14|      2154264|          No|                       3|            0|          E2|                      28.21|                      37.18|                     7|           No|                       No|  Male|Employee Referral|         7|     INFRA|  Chennai| 34|    Joined|\n",
      "|  15|      2156236|         Yes|                      14|           30|          E2|                         50|                      287.5|                158.33|           No|                       No|  Male|           Agency|         7|     INFRA|    Noida| 29|Not Joined|\n",
      "|  16|      2158703|          No|                      44|           75|          E2|                      45.45|                         60|                    10|           No|                       No|  Male|           Direct|         8|     INFRA|    Noida| 34|Not Joined|\n",
      "|  17|      2161257|          No|                       7|           30|          E3|                      53.85|                         50|                  -2.5|           No|                       No|  Male|Employee Referral|         5|     INFRA|    Noida| 34|Not Joined|\n",
      "|  18|      2162487|          No|                       1|           30|          E3|                     -27.31|                     -27.31|                     0|           No|                       No|  Male|           Direct|        18|       ETS|Bangalore| 34|    Joined|\n",
      "|  19|      2166041|         Yes|                      98|           30|          E2|                         50|                     165.36|                 76.91|           No|                       No|  Male|           Agency|         8|     INFRA|    Noida| 36|Not Joined|\n",
      "|  20|      2172982|          No|                       1|            0|          E2|                         30|                         30|                     0|           No|                       No|  Male|           Direct|         6|     INFRA|    Noida| 34|    Joined|\n",
      "|  21|      2173730|          No|                       1|           30|          E1|                     -13.42|                      42.86|                    65|           No|                       No|  Male|           Direct|         1|     INFRA|  Gurgaon| 34|    Joined|\n",
      "|  22|      2175237|          No|                       7|           30|          E1|                     221.43|                     164.29|                -17.78|           No|                       No|  Male|           Direct|         2|       ERS|    Noida| 34|    Joined|\n",
      "+----+-------------+------------+------------------------+-------------+------------+---------------------------+---------------------------+----------------------+-------------+-------------------------+------+-----------------+----------+----------+---------+---+----------+\n",
      "only showing top 20 rows\n",
      "\n"
     ]
    }
   ],
   "source": [
    "spark.read.option('header','true').csv('hr_data.csv').show()"
   ]
  },
  {
   "cell_type": "code",
   "execution_count": 6,
   "id": "d3cd1aad",
   "metadata": {},
   "outputs": [],
   "source": [
    "df_pyspark = spark.read.option('header','true').csv('hr_data.csv',inferSchema=True)"
   ]
  },
  {
   "cell_type": "markdown",
   "id": "aa8fac69",
   "metadata": {},
   "source": [
    "Checking the schema "
   ]
  },
  {
   "cell_type": "code",
   "execution_count": 7,
   "id": "a1e70775",
   "metadata": {},
   "outputs": [
    {
     "name": "stdout",
     "output_type": "stream",
     "text": [
      "root\n",
      " |-- SLNO: integer (nullable = true)\n",
      " |-- Candidate Ref: integer (nullable = true)\n",
      " |-- DOJ Extended: string (nullable = true)\n",
      " |-- Duration to accept offer: integer (nullable = true)\n",
      " |-- Notice period: integer (nullable = true)\n",
      " |-- Offered band: string (nullable = true)\n",
      " |-- Pecent hike expected in CTC: double (nullable = true)\n",
      " |-- Percent hike offered in CTC: double (nullable = true)\n",
      " |-- Percent difference CTC: double (nullable = true)\n",
      " |-- Joining Bonus: string (nullable = true)\n",
      " |-- Candidate relocate actual: string (nullable = true)\n",
      " |-- Gender: string (nullable = true)\n",
      " |-- Candidate Source: string (nullable = true)\n",
      " |-- Rex in Yrs: integer (nullable = true)\n",
      " |-- LOB: string (nullable = true)\n",
      " |-- Location: string (nullable = true)\n",
      " |-- Age: integer (nullable = true)\n",
      " |-- Status: string (nullable = true)\n",
      "\n"
     ]
    }
   ],
   "source": [
    "df_pyspark.printSchema()"
   ]
  },
  {
   "cell_type": "markdown",
   "id": "aa421c8b",
   "metadata": {},
   "source": [
    "By deafult every columns are considering as string although it has integers so for that we have to add one more paramter as inferschema and set to true while reading th dataset"
   ]
  },
  {
   "cell_type": "code",
   "execution_count": 8,
   "id": "4ff5a75e",
   "metadata": {},
   "outputs": [],
   "source": [
    "df_pyspark = spark.read.csv('hr_data.csv',header=True,inferSchema=True)"
   ]
  },
  {
   "cell_type": "code",
   "execution_count": 10,
   "id": "d7e685ca",
   "metadata": {},
   "outputs": [
    {
     "name": "stdout",
     "output_type": "stream",
     "text": [
      "+----+-------------+------------+------------------------+-------------+------------+---------------------------+---------------------------+----------------------+-------------+-------------------------+------+-----------------+----------+----------+---------+---+----------+\n",
      "|SLNO|Candidate Ref|DOJ Extended|Duration to accept offer|Notice period|Offered band|Pecent hike expected in CTC|Percent hike offered in CTC|Percent difference CTC|Joining Bonus|Candidate relocate actual|Gender| Candidate Source|Rex in Yrs|       LOB| Location|Age|    Status|\n",
      "+----+-------------+------------+------------------------+-------------+------------+---------------------------+---------------------------+----------------------+-------------+-------------------------+------+-----------------+----------+----------+---------+---+----------+\n",
      "|   1|      2110407|         Yes|                      14|           30|          E2|                     -20.79|                      13.16|                 42.86|           No|                       No|Female|           Agency|         7|       ERS|    Noida| 34|    Joined|\n",
      "|   2|      2112635|          No|                      18|           30|          E2|                       50.0|                      320.0|                 180.0|           No|                       No|  Male|Employee Referral|         8|     INFRA|  Chennai| 34|    Joined|\n",
      "|   3|      2112838|          No|                       3|           45|          E2|                      42.84|                      42.84|                   0.0|           No|                       No|  Male|           Agency|         4|     INFRA|    Noida| 27|    Joined|\n",
      "|   4|      2115021|          No|                      26|           30|          E2|                      42.84|                      42.84|                   0.0|           No|                       No|  Male|Employee Referral|         4|     INFRA|    Noida| 34|    Joined|\n",
      "|   5|      2115125|         Yes|                       1|          120|          E2|                      42.59|                      42.59|                   0.0|           No|                      Yes|  Male|Employee Referral|         6|     INFRA|    Noida| 34|    Joined|\n",
      "|   6|      2117167|         Yes|                      17|           30|          E1|                      42.83|                      42.83|                   0.0|           No|                       No|  Male|Employee Referral|         2|     INFRA|    Noida| 34|    Joined|\n",
      "|   7|      2119124|         Yes|                      37|           30|          E2|                      31.58|                      31.58|                   0.0|           No|                       No|  Male|Employee Referral|         7|     INFRA|    Noida| 32|    Joined|\n",
      "|   9|      2127572|         Yes|                      16|            0|          E1|                      -20.0|                      -20.0|                   0.0|           No|                       No|Female|           Direct|         8|Healthcare|    Noida| 34|    Joined|\n",
      "|  11|      2138169|          No|                       1|           30|          E1|                     -22.22|                     -22.22|                   0.0|           No|                       No|Female|Employee Referral|         3|      BFSI|  Gurgaon| 26|    Joined|\n",
      "|  12|      2143362|          No|                       6|           30|          E1|                      240.0|                      220.0|                 -5.88|           No|                       No|  Male|Employee Referral|         3|      CSMP|  Chennai| 34|    Joined|\n",
      "|  13|      2151180|          No|                     120|           30|          E2|                       5.26|                     -60.53|                 -62.5|           No|                       No|  Male|Employee Referral|         3|     INFRA|    Noida| 34|Not Joined|\n",
      "|  14|      2154264|          No|                       3|            0|          E2|                      28.21|                      37.18|                   7.0|           No|                       No|  Male|Employee Referral|         7|     INFRA|  Chennai| 34|    Joined|\n",
      "|  15|      2156236|         Yes|                      14|           30|          E2|                       50.0|                      287.5|                158.33|           No|                       No|  Male|           Agency|         7|     INFRA|    Noida| 29|Not Joined|\n",
      "|  16|      2158703|          No|                      44|           75|          E2|                      45.45|                       60.0|                  10.0|           No|                       No|  Male|           Direct|         8|     INFRA|    Noida| 34|Not Joined|\n",
      "|  17|      2161257|          No|                       7|           30|          E3|                      53.85|                       50.0|                  -2.5|           No|                       No|  Male|Employee Referral|         5|     INFRA|    Noida| 34|Not Joined|\n",
      "|  18|      2162487|          No|                       1|           30|          E3|                     -27.31|                     -27.31|                   0.0|           No|                       No|  Male|           Direct|        18|       ETS|Bangalore| 34|    Joined|\n",
      "|  19|      2166041|         Yes|                      98|           30|          E2|                       50.0|                     165.36|                 76.91|           No|                       No|  Male|           Agency|         8|     INFRA|    Noida| 36|Not Joined|\n",
      "|  20|      2172982|          No|                       1|            0|          E2|                       30.0|                       30.0|                   0.0|           No|                       No|  Male|           Direct|         6|     INFRA|    Noida| 34|    Joined|\n",
      "|  21|      2173730|          No|                       1|           30|          E1|                     -13.42|                      42.86|                  65.0|           No|                       No|  Male|           Direct|         1|     INFRA|  Gurgaon| 34|    Joined|\n",
      "|  22|      2175237|          No|                       7|           30|          E1|                     221.43|                     164.29|                -17.78|           No|                       No|  Male|           Direct|         2|       ERS|    Noida| 34|    Joined|\n",
      "+----+-------------+------------+------------------------+-------------+------------+---------------------------+---------------------------+----------------------+-------------+-------------------------+------+-----------------+----------+----------+---------+---+----------+\n",
      "only showing top 20 rows\n",
      "\n"
     ]
    }
   ],
   "source": [
    "df_pyspark.show()"
   ]
  },
  {
   "cell_type": "markdown",
   "id": "8be5ced7",
   "metadata": {},
   "source": [
    "Checking the columns of the dataframe"
   ]
  },
  {
   "cell_type": "code",
   "execution_count": 13,
   "id": "74b78c60",
   "metadata": {},
   "outputs": [
    {
     "data": {
      "text/plain": [
       "['SLNO',\n",
       " 'Candidate Ref',\n",
       " 'DOJ Extended',\n",
       " 'Duration to accept offer',\n",
       " 'Notice period',\n",
       " 'Offered band',\n",
       " 'Pecent hike expected in CTC',\n",
       " 'Percent hike offered in CTC',\n",
       " 'Percent difference CTC',\n",
       " 'Joining Bonus',\n",
       " 'Candidate relocate actual',\n",
       " 'Gender',\n",
       " 'Candidate Source',\n",
       " 'Rex in Yrs',\n",
       " 'LOB',\n",
       " 'Location',\n",
       " 'Age',\n",
       " 'Status']"
      ]
     },
     "execution_count": 13,
     "metadata": {},
     "output_type": "execute_result"
    }
   ],
   "source": [
    "df_pyspark.columns"
   ]
  },
  {
   "cell_type": "markdown",
   "id": "736df99a",
   "metadata": {},
   "source": [
    "Top 5 elements from the dataframe"
   ]
  },
  {
   "cell_type": "code",
   "execution_count": 14,
   "id": "f0aface9",
   "metadata": {},
   "outputs": [
    {
     "data": {
      "text/plain": [
       "[Row(SLNO=1, Candidate Ref=2110407, DOJ Extended='Yes', Duration to accept offer=14, Notice period=30, Offered band='E2', Pecent hike expected in CTC=-20.79, Percent hike offered in CTC=13.16, Percent difference CTC=42.86, Joining Bonus='No', Candidate relocate actual='No', Gender='Female', Candidate Source='Agency', Rex in Yrs=7, LOB='ERS', Location='Noida', Age=34, Status='Joined'),\n",
       " Row(SLNO=2, Candidate Ref=2112635, DOJ Extended='No', Duration to accept offer=18, Notice period=30, Offered band='E2', Pecent hike expected in CTC=50.0, Percent hike offered in CTC=320.0, Percent difference CTC=180.0, Joining Bonus='No', Candidate relocate actual='No', Gender='Male', Candidate Source='Employee Referral', Rex in Yrs=8, LOB='INFRA', Location='Chennai', Age=34, Status='Joined'),\n",
       " Row(SLNO=3, Candidate Ref=2112838, DOJ Extended='No', Duration to accept offer=3, Notice period=45, Offered band='E2', Pecent hike expected in CTC=42.84, Percent hike offered in CTC=42.84, Percent difference CTC=0.0, Joining Bonus='No', Candidate relocate actual='No', Gender='Male', Candidate Source='Agency', Rex in Yrs=4, LOB='INFRA', Location='Noida', Age=27, Status='Joined'),\n",
       " Row(SLNO=4, Candidate Ref=2115021, DOJ Extended='No', Duration to accept offer=26, Notice period=30, Offered band='E2', Pecent hike expected in CTC=42.84, Percent hike offered in CTC=42.84, Percent difference CTC=0.0, Joining Bonus='No', Candidate relocate actual='No', Gender='Male', Candidate Source='Employee Referral', Rex in Yrs=4, LOB='INFRA', Location='Noida', Age=34, Status='Joined'),\n",
       " Row(SLNO=5, Candidate Ref=2115125, DOJ Extended='Yes', Duration to accept offer=1, Notice period=120, Offered band='E2', Pecent hike expected in CTC=42.59, Percent hike offered in CTC=42.59, Percent difference CTC=0.0, Joining Bonus='No', Candidate relocate actual='Yes', Gender='Male', Candidate Source='Employee Referral', Rex in Yrs=6, LOB='INFRA', Location='Noida', Age=34, Status='Joined')]"
      ]
     },
     "execution_count": 14,
     "metadata": {},
     "output_type": "execute_result"
    }
   ],
   "source": [
    "df_pyspark.head(5)"
   ]
  },
  {
   "cell_type": "markdown",
   "id": "dda7df59",
   "metadata": {},
   "source": [
    "Selecting one column and reviewing the entire column "
   ]
  },
  {
   "cell_type": "code",
   "execution_count": 16,
   "id": "109b3284",
   "metadata": {},
   "outputs": [
    {
     "name": "stdout",
     "output_type": "stream",
     "text": [
      "+-----------------+\n",
      "| Candidate Source|\n",
      "+-----------------+\n",
      "|           Agency|\n",
      "|Employee Referral|\n",
      "|           Agency|\n",
      "|Employee Referral|\n",
      "|Employee Referral|\n",
      "|Employee Referral|\n",
      "|Employee Referral|\n",
      "|           Direct|\n",
      "|Employee Referral|\n",
      "|Employee Referral|\n",
      "|Employee Referral|\n",
      "|Employee Referral|\n",
      "|           Agency|\n",
      "|           Direct|\n",
      "|Employee Referral|\n",
      "|           Direct|\n",
      "|           Agency|\n",
      "|           Direct|\n",
      "|           Direct|\n",
      "|           Direct|\n",
      "+-----------------+\n",
      "only showing top 20 rows\n",
      "\n"
     ]
    }
   ],
   "source": [
    "df_pyspark.select('Candidate Source').show()"
   ]
  },
  {
   "cell_type": "code",
   "execution_count": 18,
   "id": "35600cb7",
   "metadata": {},
   "outputs": [
    {
     "data": {
      "text/plain": [
       "pyspark.sql.dataframe.DataFrame"
      ]
     },
     "execution_count": 18,
     "metadata": {},
     "output_type": "execute_result"
    }
   ],
   "source": [
    "type(df_pyspark.select('Candidate Source'))"
   ]
  },
  {
   "cell_type": "code",
   "execution_count": 20,
   "id": "c10a0f34",
   "metadata": {},
   "outputs": [
    {
     "name": "stdout",
     "output_type": "stream",
     "text": [
      "+-----------------+---+\n",
      "| Candidate Source|Age|\n",
      "+-----------------+---+\n",
      "|           Agency| 34|\n",
      "|Employee Referral| 34|\n",
      "|           Agency| 27|\n",
      "|Employee Referral| 34|\n",
      "|Employee Referral| 34|\n",
      "|Employee Referral| 34|\n",
      "|Employee Referral| 32|\n",
      "|           Direct| 34|\n",
      "|Employee Referral| 26|\n",
      "|Employee Referral| 34|\n",
      "|Employee Referral| 34|\n",
      "|Employee Referral| 34|\n",
      "|           Agency| 29|\n",
      "|           Direct| 34|\n",
      "|Employee Referral| 34|\n",
      "|           Direct| 34|\n",
      "|           Agency| 36|\n",
      "|           Direct| 34|\n",
      "|           Direct| 34|\n",
      "|           Direct| 34|\n",
      "+-----------------+---+\n",
      "only showing top 20 rows\n",
      "\n"
     ]
    }
   ],
   "source": [
    "df_pyspark.select(['Candidate Source','Age']).show()"
   ]
  },
  {
   "cell_type": "markdown",
   "id": "744eb302",
   "metadata": {},
   "source": [
    "Checking the datatypes "
   ]
  },
  {
   "cell_type": "code",
   "execution_count": 21,
   "id": "00669823",
   "metadata": {},
   "outputs": [
    {
     "data": {
      "text/plain": [
       "[('SLNO', 'int'),\n",
       " ('Candidate Ref', 'int'),\n",
       " ('DOJ Extended', 'string'),\n",
       " ('Duration to accept offer', 'int'),\n",
       " ('Notice period', 'int'),\n",
       " ('Offered band', 'string'),\n",
       " ('Pecent hike expected in CTC', 'double'),\n",
       " ('Percent hike offered in CTC', 'double'),\n",
       " ('Percent difference CTC', 'double'),\n",
       " ('Joining Bonus', 'string'),\n",
       " ('Candidate relocate actual', 'string'),\n",
       " ('Gender', 'string'),\n",
       " ('Candidate Source', 'string'),\n",
       " ('Rex in Yrs', 'int'),\n",
       " ('LOB', 'string'),\n",
       " ('Location', 'string'),\n",
       " ('Age', 'int'),\n",
       " ('Status', 'string')]"
      ]
     },
     "execution_count": 21,
     "metadata": {},
     "output_type": "execute_result"
    }
   ],
   "source": [
    "df_pyspark.dtypes"
   ]
  },
  {
   "cell_type": "markdown",
   "id": "520e9fa1",
   "metadata": {},
   "source": [
    "Checking the describe operation in PySpark just like Pandas"
   ]
  },
  {
   "cell_type": "code",
   "execution_count": 22,
   "id": "26f9f24f",
   "metadata": {},
   "outputs": [
    {
     "name": "stderr",
     "output_type": "stream",
     "text": [
      "23/12/17 21:00:11 WARN SparkStringUtils: Truncated the string representation of a plan since it was too large. This behavior can be adjusted by setting 'spark.sql.debug.maxToStringFields'.\n",
      "[Stage 12:>                                                         (0 + 1) / 1]\r"
     ]
    },
    {
     "name": "stdout",
     "output_type": "stream",
     "text": [
      "+-------+------------------+-----------------+------------+------------------------+------------------+------------+---------------------------+---------------------------+----------------------+-------------+-------------------------+------+-----------------+------------------+----+---------+------------------+----------+\n",
      "|summary|              SLNO|    Candidate Ref|DOJ Extended|Duration to accept offer|     Notice period|Offered band|Pecent hike expected in CTC|Percent hike offered in CTC|Percent difference CTC|Joining Bonus|Candidate relocate actual|Gender| Candidate Source|        Rex in Yrs| LOB| Location|               Age|    Status|\n",
      "+-------+------------------+-----------------+------------+------------------------+------------------+------------+---------------------------+---------------------------+----------------------+-------------+-------------------------+------+-----------------+------------------+----+---------+------------------+----------+\n",
      "|  count|              8995|             8995|        8995|                    8995|              8995|        8995|                       8995|                       8995|                  8995|         8995|                     8995|  8995|             8995|              8995|8995|     8995|              8995|      8995|\n",
      "|   mean| 5970.984324624792|2843647.377765425|        NULL|      21.434463590883823| 39.29182879377432|        NULL|          43.86480377987742|          40.65735630906044|   -1.5738021122846075|         NULL|                     NULL|  NULL|             NULL| 4.239021678710395|NULL|     NULL|29.913173985547527|      NULL|\n",
      "| stddev|3373.9634540786838|486344.7745519215|        NULL|      25.811615717050906|22.220239481838103|        NULL|          29.78897499097193|          36.06405981089342|    19.610728841580432|         NULL|                     NULL|  NULL|             NULL|2.5475706093546893|NULL|     NULL| 4.097912018199918|      NULL|\n",
      "|    min|                 1|          2109586|          No|                       0|                 0|          E0|                     -68.83|                     -60.53|                -67.27|           No|                       No|Female|           Agency|                 0|AXON|Ahmedabad|                20|    Joined|\n",
      "|    max|             12333|          3836076|         Yes|                     224|               120|          E3|                     359.77|                     471.43|                 300.0|          Yes|                      Yes|  Male|Employee Referral|                24| MMS|     Pune|                60|Not Joined|\n",
      "+-------+------------------+-----------------+------------+------------------------+------------------+------------+---------------------------+---------------------------+----------------------+-------------+-------------------------+------+-----------------+------------------+----+---------+------------------+----------+\n",
      "\n"
     ]
    },
    {
     "name": "stderr",
     "output_type": "stream",
     "text": [
      "                                                                                \r"
     ]
    }
   ],
   "source": [
    "df_pyspark.describe().show()"
   ]
  },
  {
   "cell_type": "markdown",
   "id": "cb043516",
   "metadata": {},
   "source": [
    "Adding new column in the existing dataframe"
   ]
  },
  {
   "cell_type": "code",
   "execution_count": 23,
   "id": "4a9995e9",
   "metadata": {},
   "outputs": [
    {
     "name": "stdout",
     "output_type": "stream",
     "text": [
      "+----+-------------+------------+------------------------+-------------+------------+---------------------------+---------------------------+----------------------+-------------+-------------------------+------+-----------------+----------+----------+---------+---+----------+-----------------+\n",
      "|SLNO|Candidate Ref|DOJ Extended|Duration to accept offer|Notice period|Offered band|Pecent hike expected in CTC|Percent hike offered in CTC|Percent difference CTC|Joining Bonus|Candidate relocate actual|Gender| Candidate Source|Rex in Yrs|       LOB| Location|Age|    Status|Age after 2 years|\n",
      "+----+-------------+------------+------------------------+-------------+------------+---------------------------+---------------------------+----------------------+-------------+-------------------------+------+-----------------+----------+----------+---------+---+----------+-----------------+\n",
      "|   1|      2110407|         Yes|                      14|           30|          E2|                     -20.79|                      13.16|                 42.86|           No|                       No|Female|           Agency|         7|       ERS|    Noida| 34|    Joined|               36|\n",
      "|   2|      2112635|          No|                      18|           30|          E2|                       50.0|                      320.0|                 180.0|           No|                       No|  Male|Employee Referral|         8|     INFRA|  Chennai| 34|    Joined|               36|\n",
      "|   3|      2112838|          No|                       3|           45|          E2|                      42.84|                      42.84|                   0.0|           No|                       No|  Male|           Agency|         4|     INFRA|    Noida| 27|    Joined|               29|\n",
      "|   4|      2115021|          No|                      26|           30|          E2|                      42.84|                      42.84|                   0.0|           No|                       No|  Male|Employee Referral|         4|     INFRA|    Noida| 34|    Joined|               36|\n",
      "|   5|      2115125|         Yes|                       1|          120|          E2|                      42.59|                      42.59|                   0.0|           No|                      Yes|  Male|Employee Referral|         6|     INFRA|    Noida| 34|    Joined|               36|\n",
      "|   6|      2117167|         Yes|                      17|           30|          E1|                      42.83|                      42.83|                   0.0|           No|                       No|  Male|Employee Referral|         2|     INFRA|    Noida| 34|    Joined|               36|\n",
      "|   7|      2119124|         Yes|                      37|           30|          E2|                      31.58|                      31.58|                   0.0|           No|                       No|  Male|Employee Referral|         7|     INFRA|    Noida| 32|    Joined|               34|\n",
      "|   9|      2127572|         Yes|                      16|            0|          E1|                      -20.0|                      -20.0|                   0.0|           No|                       No|Female|           Direct|         8|Healthcare|    Noida| 34|    Joined|               36|\n",
      "|  11|      2138169|          No|                       1|           30|          E1|                     -22.22|                     -22.22|                   0.0|           No|                       No|Female|Employee Referral|         3|      BFSI|  Gurgaon| 26|    Joined|               28|\n",
      "|  12|      2143362|          No|                       6|           30|          E1|                      240.0|                      220.0|                 -5.88|           No|                       No|  Male|Employee Referral|         3|      CSMP|  Chennai| 34|    Joined|               36|\n",
      "|  13|      2151180|          No|                     120|           30|          E2|                       5.26|                     -60.53|                 -62.5|           No|                       No|  Male|Employee Referral|         3|     INFRA|    Noida| 34|Not Joined|               36|\n",
      "|  14|      2154264|          No|                       3|            0|          E2|                      28.21|                      37.18|                   7.0|           No|                       No|  Male|Employee Referral|         7|     INFRA|  Chennai| 34|    Joined|               36|\n",
      "|  15|      2156236|         Yes|                      14|           30|          E2|                       50.0|                      287.5|                158.33|           No|                       No|  Male|           Agency|         7|     INFRA|    Noida| 29|Not Joined|               31|\n",
      "|  16|      2158703|          No|                      44|           75|          E2|                      45.45|                       60.0|                  10.0|           No|                       No|  Male|           Direct|         8|     INFRA|    Noida| 34|Not Joined|               36|\n",
      "|  17|      2161257|          No|                       7|           30|          E3|                      53.85|                       50.0|                  -2.5|           No|                       No|  Male|Employee Referral|         5|     INFRA|    Noida| 34|Not Joined|               36|\n",
      "|  18|      2162487|          No|                       1|           30|          E3|                     -27.31|                     -27.31|                   0.0|           No|                       No|  Male|           Direct|        18|       ETS|Bangalore| 34|    Joined|               36|\n",
      "|  19|      2166041|         Yes|                      98|           30|          E2|                       50.0|                     165.36|                 76.91|           No|                       No|  Male|           Agency|         8|     INFRA|    Noida| 36|Not Joined|               38|\n",
      "|  20|      2172982|          No|                       1|            0|          E2|                       30.0|                       30.0|                   0.0|           No|                       No|  Male|           Direct|         6|     INFRA|    Noida| 34|    Joined|               36|\n",
      "|  21|      2173730|          No|                       1|           30|          E1|                     -13.42|                      42.86|                  65.0|           No|                       No|  Male|           Direct|         1|     INFRA|  Gurgaon| 34|    Joined|               36|\n",
      "|  22|      2175237|          No|                       7|           30|          E1|                     221.43|                     164.29|                -17.78|           No|                       No|  Male|           Direct|         2|       ERS|    Noida| 34|    Joined|               36|\n",
      "+----+-------------+------------+------------------------+-------------+------------+---------------------------+---------------------------+----------------------+-------------+-------------------------+------+-----------------+----------+----------+---------+---+----------+-----------------+\n",
      "only showing top 20 rows\n",
      "\n"
     ]
    }
   ],
   "source": [
    "df_pyspark.withColumn('Age after 2 years',df_pyspark['Age']+2).show()"
   ]
  },
  {
   "cell_type": "markdown",
   "id": "bd8d29b8",
   "metadata": {},
   "source": [
    "Dropping columns from the existing dataframe"
   ]
  },
  {
   "cell_type": "code",
   "execution_count": 24,
   "id": "e15df05d",
   "metadata": {},
   "outputs": [
    {
     "data": {
      "text/plain": [
       "DataFrame[SLNO: int, Candidate Ref: int, DOJ Extended: string, Duration to accept offer: int, Notice period: int, Offered band: string, Pecent hike expected in CTC: double, Percent hike offered in CTC: double, Percent difference CTC: double, Joining Bonus: string, Candidate relocate actual: string, Gender: string, Candidate Source: string, Rex in Yrs: int, LOB: string, Location: string, Age: int, Status: string]"
      ]
     },
     "execution_count": 24,
     "metadata": {},
     "output_type": "execute_result"
    }
   ],
   "source": [
    "df_pyspark.drop('Age after 2 years')"
   ]
  },
  {
   "cell_type": "code",
   "execution_count": 26,
   "id": "94864761",
   "metadata": {},
   "outputs": [],
   "source": [
    "df_pyspark = df_pyspark.drop('Age after 2 years')"
   ]
  },
  {
   "cell_type": "code",
   "execution_count": 27,
   "id": "3a8602c9",
   "metadata": {},
   "outputs": [
    {
     "name": "stdout",
     "output_type": "stream",
     "text": [
      "+----+-------------+------------+------------------------+-------------+------------+---------------------------+---------------------------+----------------------+-------------+-------------------------+------+-----------------+----------+----------+---------+---+----------+\n",
      "|SLNO|Candidate Ref|DOJ Extended|Duration to accept offer|Notice period|Offered band|Pecent hike expected in CTC|Percent hike offered in CTC|Percent difference CTC|Joining Bonus|Candidate relocate actual|Gender| Candidate Source|Rex in Yrs|       LOB| Location|Age|    Status|\n",
      "+----+-------------+------------+------------------------+-------------+------------+---------------------------+---------------------------+----------------------+-------------+-------------------------+------+-----------------+----------+----------+---------+---+----------+\n",
      "|   1|      2110407|         Yes|                      14|           30|          E2|                     -20.79|                      13.16|                 42.86|           No|                       No|Female|           Agency|         7|       ERS|    Noida| 34|    Joined|\n",
      "|   2|      2112635|          No|                      18|           30|          E2|                       50.0|                      320.0|                 180.0|           No|                       No|  Male|Employee Referral|         8|     INFRA|  Chennai| 34|    Joined|\n",
      "|   3|      2112838|          No|                       3|           45|          E2|                      42.84|                      42.84|                   0.0|           No|                       No|  Male|           Agency|         4|     INFRA|    Noida| 27|    Joined|\n",
      "|   4|      2115021|          No|                      26|           30|          E2|                      42.84|                      42.84|                   0.0|           No|                       No|  Male|Employee Referral|         4|     INFRA|    Noida| 34|    Joined|\n",
      "|   5|      2115125|         Yes|                       1|          120|          E2|                      42.59|                      42.59|                   0.0|           No|                      Yes|  Male|Employee Referral|         6|     INFRA|    Noida| 34|    Joined|\n",
      "|   6|      2117167|         Yes|                      17|           30|          E1|                      42.83|                      42.83|                   0.0|           No|                       No|  Male|Employee Referral|         2|     INFRA|    Noida| 34|    Joined|\n",
      "|   7|      2119124|         Yes|                      37|           30|          E2|                      31.58|                      31.58|                   0.0|           No|                       No|  Male|Employee Referral|         7|     INFRA|    Noida| 32|    Joined|\n",
      "|   9|      2127572|         Yes|                      16|            0|          E1|                      -20.0|                      -20.0|                   0.0|           No|                       No|Female|           Direct|         8|Healthcare|    Noida| 34|    Joined|\n",
      "|  11|      2138169|          No|                       1|           30|          E1|                     -22.22|                     -22.22|                   0.0|           No|                       No|Female|Employee Referral|         3|      BFSI|  Gurgaon| 26|    Joined|\n",
      "|  12|      2143362|          No|                       6|           30|          E1|                      240.0|                      220.0|                 -5.88|           No|                       No|  Male|Employee Referral|         3|      CSMP|  Chennai| 34|    Joined|\n",
      "|  13|      2151180|          No|                     120|           30|          E2|                       5.26|                     -60.53|                 -62.5|           No|                       No|  Male|Employee Referral|         3|     INFRA|    Noida| 34|Not Joined|\n",
      "|  14|      2154264|          No|                       3|            0|          E2|                      28.21|                      37.18|                   7.0|           No|                       No|  Male|Employee Referral|         7|     INFRA|  Chennai| 34|    Joined|\n",
      "|  15|      2156236|         Yes|                      14|           30|          E2|                       50.0|                      287.5|                158.33|           No|                       No|  Male|           Agency|         7|     INFRA|    Noida| 29|Not Joined|\n",
      "|  16|      2158703|          No|                      44|           75|          E2|                      45.45|                       60.0|                  10.0|           No|                       No|  Male|           Direct|         8|     INFRA|    Noida| 34|Not Joined|\n",
      "|  17|      2161257|          No|                       7|           30|          E3|                      53.85|                       50.0|                  -2.5|           No|                       No|  Male|Employee Referral|         5|     INFRA|    Noida| 34|Not Joined|\n",
      "|  18|      2162487|          No|                       1|           30|          E3|                     -27.31|                     -27.31|                   0.0|           No|                       No|  Male|           Direct|        18|       ETS|Bangalore| 34|    Joined|\n",
      "|  19|      2166041|         Yes|                      98|           30|          E2|                       50.0|                     165.36|                 76.91|           No|                       No|  Male|           Agency|         8|     INFRA|    Noida| 36|Not Joined|\n",
      "|  20|      2172982|          No|                       1|            0|          E2|                       30.0|                       30.0|                   0.0|           No|                       No|  Male|           Direct|         6|     INFRA|    Noida| 34|    Joined|\n",
      "|  21|      2173730|          No|                       1|           30|          E1|                     -13.42|                      42.86|                  65.0|           No|                       No|  Male|           Direct|         1|     INFRA|  Gurgaon| 34|    Joined|\n",
      "|  22|      2175237|          No|                       7|           30|          E1|                     221.43|                     164.29|                -17.78|           No|                       No|  Male|           Direct|         2|       ERS|    Noida| 34|    Joined|\n",
      "+----+-------------+------------+------------------------+-------------+------------+---------------------------+---------------------------+----------------------+-------------+-------------------------+------+-----------------+----------+----------+---------+---+----------+\n",
      "only showing top 20 rows\n",
      "\n"
     ]
    }
   ],
   "source": [
    "df_pyspark.show()"
   ]
  },
  {
   "cell_type": "code",
   "execution_count": 25,
   "id": "9039584e",
   "metadata": {},
   "outputs": [
    {
     "name": "stdout",
     "output_type": "stream",
     "text": [
      "+----+-------------+------------+------------------------+-------------+------------+---------------------------+---------------------------+----------------------+-------------+-------------------------+------+-----------------+----------+----------+---------+---+----------+\n",
      "|SLNO|Candidate Ref|DOJ Extended|Duration to accept offer|Notice period|Offered band|Pecent hike expected in CTC|Percent hike offered in CTC|Percent difference CTC|Joining Bonus|Candidate relocate actual|Gender| Candidate Source|Rex in Yrs|       LOB| Location|Age|    Status|\n",
      "+----+-------------+------------+------------------------+-------------+------------+---------------------------+---------------------------+----------------------+-------------+-------------------------+------+-----------------+----------+----------+---------+---+----------+\n",
      "|   1|      2110407|         Yes|                      14|           30|          E2|                     -20.79|                      13.16|                 42.86|           No|                       No|Female|           Agency|         7|       ERS|    Noida| 34|    Joined|\n",
      "|   2|      2112635|          No|                      18|           30|          E2|                       50.0|                      320.0|                 180.0|           No|                       No|  Male|Employee Referral|         8|     INFRA|  Chennai| 34|    Joined|\n",
      "|   3|      2112838|          No|                       3|           45|          E2|                      42.84|                      42.84|                   0.0|           No|                       No|  Male|           Agency|         4|     INFRA|    Noida| 27|    Joined|\n",
      "|   4|      2115021|          No|                      26|           30|          E2|                      42.84|                      42.84|                   0.0|           No|                       No|  Male|Employee Referral|         4|     INFRA|    Noida| 34|    Joined|\n",
      "|   5|      2115125|         Yes|                       1|          120|          E2|                      42.59|                      42.59|                   0.0|           No|                      Yes|  Male|Employee Referral|         6|     INFRA|    Noida| 34|    Joined|\n",
      "|   6|      2117167|         Yes|                      17|           30|          E1|                      42.83|                      42.83|                   0.0|           No|                       No|  Male|Employee Referral|         2|     INFRA|    Noida| 34|    Joined|\n",
      "|   7|      2119124|         Yes|                      37|           30|          E2|                      31.58|                      31.58|                   0.0|           No|                       No|  Male|Employee Referral|         7|     INFRA|    Noida| 32|    Joined|\n",
      "|   9|      2127572|         Yes|                      16|            0|          E1|                      -20.0|                      -20.0|                   0.0|           No|                       No|Female|           Direct|         8|Healthcare|    Noida| 34|    Joined|\n",
      "|  11|      2138169|          No|                       1|           30|          E1|                     -22.22|                     -22.22|                   0.0|           No|                       No|Female|Employee Referral|         3|      BFSI|  Gurgaon| 26|    Joined|\n",
      "|  12|      2143362|          No|                       6|           30|          E1|                      240.0|                      220.0|                 -5.88|           No|                       No|  Male|Employee Referral|         3|      CSMP|  Chennai| 34|    Joined|\n",
      "|  13|      2151180|          No|                     120|           30|          E2|                       5.26|                     -60.53|                 -62.5|           No|                       No|  Male|Employee Referral|         3|     INFRA|    Noida| 34|Not Joined|\n",
      "|  14|      2154264|          No|                       3|            0|          E2|                      28.21|                      37.18|                   7.0|           No|                       No|  Male|Employee Referral|         7|     INFRA|  Chennai| 34|    Joined|\n",
      "|  15|      2156236|         Yes|                      14|           30|          E2|                       50.0|                      287.5|                158.33|           No|                       No|  Male|           Agency|         7|     INFRA|    Noida| 29|Not Joined|\n",
      "|  16|      2158703|          No|                      44|           75|          E2|                      45.45|                       60.0|                  10.0|           No|                       No|  Male|           Direct|         8|     INFRA|    Noida| 34|Not Joined|\n",
      "|  17|      2161257|          No|                       7|           30|          E3|                      53.85|                       50.0|                  -2.5|           No|                       No|  Male|Employee Referral|         5|     INFRA|    Noida| 34|Not Joined|\n",
      "|  18|      2162487|          No|                       1|           30|          E3|                     -27.31|                     -27.31|                   0.0|           No|                       No|  Male|           Direct|        18|       ETS|Bangalore| 34|    Joined|\n",
      "|  19|      2166041|         Yes|                      98|           30|          E2|                       50.0|                     165.36|                 76.91|           No|                       No|  Male|           Agency|         8|     INFRA|    Noida| 36|Not Joined|\n",
      "|  20|      2172982|          No|                       1|            0|          E2|                       30.0|                       30.0|                   0.0|           No|                       No|  Male|           Direct|         6|     INFRA|    Noida| 34|    Joined|\n",
      "|  21|      2173730|          No|                       1|           30|          E1|                     -13.42|                      42.86|                  65.0|           No|                       No|  Male|           Direct|         1|     INFRA|  Gurgaon| 34|    Joined|\n",
      "|  22|      2175237|          No|                       7|           30|          E1|                     221.43|                     164.29|                -17.78|           No|                       No|  Male|           Direct|         2|       ERS|    Noida| 34|    Joined|\n",
      "+----+-------------+------------+------------------------+-------------+------------+---------------------------+---------------------------+----------------------+-------------+-------------------------+------+-----------------+----------+----------+---------+---+----------+\n",
      "only showing top 20 rows\n",
      "\n"
     ]
    }
   ],
   "source": [
    "df_pyspark.drop('Age after 2 years').show()"
   ]
  },
  {
   "cell_type": "code",
   "execution_count": 28,
   "id": "b144342c",
   "metadata": {},
   "outputs": [],
   "source": [
    "df_pyspark = df_pyspark.drop('Age after 2 years')"
   ]
  },
  {
   "cell_type": "code",
   "execution_count": 29,
   "id": "020ffdf6",
   "metadata": {},
   "outputs": [
    {
     "name": "stdout",
     "output_type": "stream",
     "text": [
      "+----+-------------+------------+------------------------+-------------+------------+---------------------------+---------------------------+----------------------+-------------+-------------------------+------+-----------------+----------+----------+---------+---+----------+\n",
      "|SLNO|Candidate Ref|DOJ Extended|Duration to accept offer|Notice period|Offered band|Pecent hike expected in CTC|Percent hike offered in CTC|Percent difference CTC|Joining Bonus|Candidate relocate actual|Gender| Candidate Source|Rex in Yrs|       LOB| Location|Age|    Status|\n",
      "+----+-------------+------------+------------------------+-------------+------------+---------------------------+---------------------------+----------------------+-------------+-------------------------+------+-----------------+----------+----------+---------+---+----------+\n",
      "|   1|      2110407|         Yes|                      14|           30|          E2|                     -20.79|                      13.16|                 42.86|           No|                       No|Female|           Agency|         7|       ERS|    Noida| 34|    Joined|\n",
      "|   2|      2112635|          No|                      18|           30|          E2|                       50.0|                      320.0|                 180.0|           No|                       No|  Male|Employee Referral|         8|     INFRA|  Chennai| 34|    Joined|\n",
      "|   3|      2112838|          No|                       3|           45|          E2|                      42.84|                      42.84|                   0.0|           No|                       No|  Male|           Agency|         4|     INFRA|    Noida| 27|    Joined|\n",
      "|   4|      2115021|          No|                      26|           30|          E2|                      42.84|                      42.84|                   0.0|           No|                       No|  Male|Employee Referral|         4|     INFRA|    Noida| 34|    Joined|\n",
      "|   5|      2115125|         Yes|                       1|          120|          E2|                      42.59|                      42.59|                   0.0|           No|                      Yes|  Male|Employee Referral|         6|     INFRA|    Noida| 34|    Joined|\n",
      "|   6|      2117167|         Yes|                      17|           30|          E1|                      42.83|                      42.83|                   0.0|           No|                       No|  Male|Employee Referral|         2|     INFRA|    Noida| 34|    Joined|\n",
      "|   7|      2119124|         Yes|                      37|           30|          E2|                      31.58|                      31.58|                   0.0|           No|                       No|  Male|Employee Referral|         7|     INFRA|    Noida| 32|    Joined|\n",
      "|   9|      2127572|         Yes|                      16|            0|          E1|                      -20.0|                      -20.0|                   0.0|           No|                       No|Female|           Direct|         8|Healthcare|    Noida| 34|    Joined|\n",
      "|  11|      2138169|          No|                       1|           30|          E1|                     -22.22|                     -22.22|                   0.0|           No|                       No|Female|Employee Referral|         3|      BFSI|  Gurgaon| 26|    Joined|\n",
      "|  12|      2143362|          No|                       6|           30|          E1|                      240.0|                      220.0|                 -5.88|           No|                       No|  Male|Employee Referral|         3|      CSMP|  Chennai| 34|    Joined|\n",
      "|  13|      2151180|          No|                     120|           30|          E2|                       5.26|                     -60.53|                 -62.5|           No|                       No|  Male|Employee Referral|         3|     INFRA|    Noida| 34|Not Joined|\n",
      "|  14|      2154264|          No|                       3|            0|          E2|                      28.21|                      37.18|                   7.0|           No|                       No|  Male|Employee Referral|         7|     INFRA|  Chennai| 34|    Joined|\n",
      "|  15|      2156236|         Yes|                      14|           30|          E2|                       50.0|                      287.5|                158.33|           No|                       No|  Male|           Agency|         7|     INFRA|    Noida| 29|Not Joined|\n",
      "|  16|      2158703|          No|                      44|           75|          E2|                      45.45|                       60.0|                  10.0|           No|                       No|  Male|           Direct|         8|     INFRA|    Noida| 34|Not Joined|\n",
      "|  17|      2161257|          No|                       7|           30|          E3|                      53.85|                       50.0|                  -2.5|           No|                       No|  Male|Employee Referral|         5|     INFRA|    Noida| 34|Not Joined|\n",
      "|  18|      2162487|          No|                       1|           30|          E3|                     -27.31|                     -27.31|                   0.0|           No|                       No|  Male|           Direct|        18|       ETS|Bangalore| 34|    Joined|\n",
      "|  19|      2166041|         Yes|                      98|           30|          E2|                       50.0|                     165.36|                 76.91|           No|                       No|  Male|           Agency|         8|     INFRA|    Noida| 36|Not Joined|\n",
      "|  20|      2172982|          No|                       1|            0|          E2|                       30.0|                       30.0|                   0.0|           No|                       No|  Male|           Direct|         6|     INFRA|    Noida| 34|    Joined|\n",
      "|  21|      2173730|          No|                       1|           30|          E1|                     -13.42|                      42.86|                  65.0|           No|                       No|  Male|           Direct|         1|     INFRA|  Gurgaon| 34|    Joined|\n",
      "|  22|      2175237|          No|                       7|           30|          E1|                     221.43|                     164.29|                -17.78|           No|                       No|  Male|           Direct|         2|       ERS|    Noida| 34|    Joined|\n",
      "+----+-------------+------------+------------------------+-------------+------------+---------------------------+---------------------------+----------------------+-------------+-------------------------+------+-----------------+----------+----------+---------+---+----------+\n",
      "only showing top 20 rows\n",
      "\n"
     ]
    }
   ],
   "source": [
    "df_pyspark.show()"
   ]
  },
  {
   "cell_type": "markdown",
   "id": "1fb3bc19",
   "metadata": {},
   "source": [
    "Renaming the columns "
   ]
  },
  {
   "cell_type": "code",
   "execution_count": 31,
   "id": "671c039e",
   "metadata": {},
   "outputs": [
    {
     "data": {
      "text/plain": [
       "DataFrame[SLNO: int, Candidate Ref: int, DOJ Extended: string, Duration to accept offer: int, Notice period: int, Offered band: string, Pecent hike expected in CTC: double, Percent hike offered in CTC: double, Percent difference CTC: double, Joining Bonus: string, Candidate relocate actual: string, Gender: string, Candidate Source: string, Rex in Yrs: int, LOB: string, Location: string, New Age: int, Status: string]"
      ]
     },
     "execution_count": 31,
     "metadata": {},
     "output_type": "execute_result"
    }
   ],
   "source": [
    "df_pyspark.withColumnRenamed('Age','New Age')"
   ]
  },
  {
   "cell_type": "code",
   "execution_count": 32,
   "id": "87927b99",
   "metadata": {},
   "outputs": [],
   "source": [
    "df_pyspark = df_pyspark.withColumnRenamed('Age','New Age')"
   ]
  },
  {
   "cell_type": "code",
   "execution_count": 33,
   "id": "b9ac5e98",
   "metadata": {},
   "outputs": [
    {
     "name": "stdout",
     "output_type": "stream",
     "text": [
      "+----+-------------+------------+------------------------+-------------+------------+---------------------------+---------------------------+----------------------+-------------+-------------------------+------+-----------------+----------+----------+---------+-------+----------+\n",
      "|SLNO|Candidate Ref|DOJ Extended|Duration to accept offer|Notice period|Offered band|Pecent hike expected in CTC|Percent hike offered in CTC|Percent difference CTC|Joining Bonus|Candidate relocate actual|Gender| Candidate Source|Rex in Yrs|       LOB| Location|New Age|    Status|\n",
      "+----+-------------+------------+------------------------+-------------+------------+---------------------------+---------------------------+----------------------+-------------+-------------------------+------+-----------------+----------+----------+---------+-------+----------+\n",
      "|   1|      2110407|         Yes|                      14|           30|          E2|                     -20.79|                      13.16|                 42.86|           No|                       No|Female|           Agency|         7|       ERS|    Noida|     34|    Joined|\n",
      "|   2|      2112635|          No|                      18|           30|          E2|                       50.0|                      320.0|                 180.0|           No|                       No|  Male|Employee Referral|         8|     INFRA|  Chennai|     34|    Joined|\n",
      "|   3|      2112838|          No|                       3|           45|          E2|                      42.84|                      42.84|                   0.0|           No|                       No|  Male|           Agency|         4|     INFRA|    Noida|     27|    Joined|\n",
      "|   4|      2115021|          No|                      26|           30|          E2|                      42.84|                      42.84|                   0.0|           No|                       No|  Male|Employee Referral|         4|     INFRA|    Noida|     34|    Joined|\n",
      "|   5|      2115125|         Yes|                       1|          120|          E2|                      42.59|                      42.59|                   0.0|           No|                      Yes|  Male|Employee Referral|         6|     INFRA|    Noida|     34|    Joined|\n",
      "|   6|      2117167|         Yes|                      17|           30|          E1|                      42.83|                      42.83|                   0.0|           No|                       No|  Male|Employee Referral|         2|     INFRA|    Noida|     34|    Joined|\n",
      "|   7|      2119124|         Yes|                      37|           30|          E2|                      31.58|                      31.58|                   0.0|           No|                       No|  Male|Employee Referral|         7|     INFRA|    Noida|     32|    Joined|\n",
      "|   9|      2127572|         Yes|                      16|            0|          E1|                      -20.0|                      -20.0|                   0.0|           No|                       No|Female|           Direct|         8|Healthcare|    Noida|     34|    Joined|\n",
      "|  11|      2138169|          No|                       1|           30|          E1|                     -22.22|                     -22.22|                   0.0|           No|                       No|Female|Employee Referral|         3|      BFSI|  Gurgaon|     26|    Joined|\n",
      "|  12|      2143362|          No|                       6|           30|          E1|                      240.0|                      220.0|                 -5.88|           No|                       No|  Male|Employee Referral|         3|      CSMP|  Chennai|     34|    Joined|\n",
      "|  13|      2151180|          No|                     120|           30|          E2|                       5.26|                     -60.53|                 -62.5|           No|                       No|  Male|Employee Referral|         3|     INFRA|    Noida|     34|Not Joined|\n",
      "|  14|      2154264|          No|                       3|            0|          E2|                      28.21|                      37.18|                   7.0|           No|                       No|  Male|Employee Referral|         7|     INFRA|  Chennai|     34|    Joined|\n",
      "|  15|      2156236|         Yes|                      14|           30|          E2|                       50.0|                      287.5|                158.33|           No|                       No|  Male|           Agency|         7|     INFRA|    Noida|     29|Not Joined|\n",
      "|  16|      2158703|          No|                      44|           75|          E2|                      45.45|                       60.0|                  10.0|           No|                       No|  Male|           Direct|         8|     INFRA|    Noida|     34|Not Joined|\n",
      "|  17|      2161257|          No|                       7|           30|          E3|                      53.85|                       50.0|                  -2.5|           No|                       No|  Male|Employee Referral|         5|     INFRA|    Noida|     34|Not Joined|\n",
      "|  18|      2162487|          No|                       1|           30|          E3|                     -27.31|                     -27.31|                   0.0|           No|                       No|  Male|           Direct|        18|       ETS|Bangalore|     34|    Joined|\n",
      "|  19|      2166041|         Yes|                      98|           30|          E2|                       50.0|                     165.36|                 76.91|           No|                       No|  Male|           Agency|         8|     INFRA|    Noida|     36|Not Joined|\n",
      "|  20|      2172982|          No|                       1|            0|          E2|                       30.0|                       30.0|                   0.0|           No|                       No|  Male|           Direct|         6|     INFRA|    Noida|     34|    Joined|\n",
      "|  21|      2173730|          No|                       1|           30|          E1|                     -13.42|                      42.86|                  65.0|           No|                       No|  Male|           Direct|         1|     INFRA|  Gurgaon|     34|    Joined|\n",
      "|  22|      2175237|          No|                       7|           30|          E1|                     221.43|                     164.29|                -17.78|           No|                       No|  Male|           Direct|         2|       ERS|    Noida|     34|    Joined|\n",
      "+----+-------------+------------+------------------------+-------------+------------+---------------------------+---------------------------+----------------------+-------------+-------------------------+------+-----------------+----------+----------+---------+-------+----------+\n",
      "only showing top 20 rows\n",
      "\n"
     ]
    }
   ],
   "source": [
    "df_pyspark.show()"
   ]
  },
  {
   "cell_type": "code",
   "execution_count": null,
   "id": "ff9e55c3",
   "metadata": {},
   "outputs": [],
   "source": []
  }
 ],
 "metadata": {
  "kernelspec": {
   "display_name": "Python 3 (ipykernel)",
   "language": "python",
   "name": "python3"
  },
  "language_info": {
   "codemirror_mode": {
    "name": "ipython",
    "version": 3
   },
   "file_extension": ".py",
   "mimetype": "text/x-python",
   "name": "python",
   "nbconvert_exporter": "python",
   "pygments_lexer": "ipython3",
   "version": "3.9.13"
  }
 },
 "nbformat": 4,
 "nbformat_minor": 5
}
