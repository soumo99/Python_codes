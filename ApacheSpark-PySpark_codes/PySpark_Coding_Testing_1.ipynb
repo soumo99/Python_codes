{
 "cells": [
  {
   "cell_type": "markdown",
   "id": "5b8c1701",
   "metadata": {},
   "source": [
    "# PySpark Code Testing - 1\n",
    "# Basic queries "
   ]
  },
  {
   "cell_type": "code",
   "execution_count": 1,
   "id": "66c596b7",
   "metadata": {},
   "outputs": [
    {
     "name": "stdout",
     "output_type": "stream",
     "text": [
      "Requirement already satisfied: pyspark in /Users/soumobratamanna/miniforge3/lib/python3.9/site-packages (3.5.0)\n",
      "Requirement already satisfied: py4j==0.10.9.7 in /Users/soumobratamanna/miniforge3/lib/python3.9/site-packages (from pyspark) (0.10.9.7)\n",
      "Note: you may need to restart the kernel to use updated packages.\n"
     ]
    }
   ],
   "source": [
    "pip install pyspark"
   ]
  },
  {
   "cell_type": "code",
   "execution_count": 2,
   "id": "5a1aab86",
   "metadata": {},
   "outputs": [],
   "source": [
    "import pyspark"
   ]
  },
  {
   "cell_type": "code",
   "execution_count": 3,
   "id": "148244eb",
   "metadata": {},
   "outputs": [],
   "source": [
    "import pandas as pd\n",
    "import numpy as np\n",
    "import matplotlib.pyplot as plt"
   ]
  },
  {
   "cell_type": "code",
   "execution_count": 4,
   "id": "aa1482f7",
   "metadata": {},
   "outputs": [],
   "source": [
    "data = pd.read_csv('/Users/soumobratamanna/Documents/Data_Science_Projects/tensorflow-test/hr_data.csv')"
   ]
  },
  {
   "cell_type": "code",
   "execution_count": 5,
   "id": "8de225a4",
   "metadata": {},
   "outputs": [
    {
     "data": {
      "text/html": [
       "<div>\n",
       "<style scoped>\n",
       "    .dataframe tbody tr th:only-of-type {\n",
       "        vertical-align: middle;\n",
       "    }\n",
       "\n",
       "    .dataframe tbody tr th {\n",
       "        vertical-align: top;\n",
       "    }\n",
       "\n",
       "    .dataframe thead th {\n",
       "        text-align: right;\n",
       "    }\n",
       "</style>\n",
       "<table border=\"1\" class=\"dataframe\">\n",
       "  <thead>\n",
       "    <tr style=\"text-align: right;\">\n",
       "      <th></th>\n",
       "      <th>SLNO</th>\n",
       "      <th>Candidate Ref</th>\n",
       "      <th>DOJ Extended</th>\n",
       "      <th>Duration to accept offer</th>\n",
       "      <th>Notice period</th>\n",
       "      <th>Offered band</th>\n",
       "      <th>Pecent hike expected in CTC</th>\n",
       "      <th>Percent hike offered in CTC</th>\n",
       "      <th>Percent difference CTC</th>\n",
       "      <th>Joining Bonus</th>\n",
       "      <th>Candidate relocate actual</th>\n",
       "      <th>Gender</th>\n",
       "      <th>Candidate Source</th>\n",
       "      <th>Rex in Yrs</th>\n",
       "      <th>LOB</th>\n",
       "      <th>Location</th>\n",
       "      <th>Age</th>\n",
       "      <th>Status</th>\n",
       "    </tr>\n",
       "  </thead>\n",
       "  <tbody>\n",
       "    <tr>\n",
       "      <th>0</th>\n",
       "      <td>1</td>\n",
       "      <td>2110407</td>\n",
       "      <td>Yes</td>\n",
       "      <td>14</td>\n",
       "      <td>30</td>\n",
       "      <td>E2</td>\n",
       "      <td>-20.79</td>\n",
       "      <td>13.16</td>\n",
       "      <td>42.86</td>\n",
       "      <td>No</td>\n",
       "      <td>No</td>\n",
       "      <td>Female</td>\n",
       "      <td>Agency</td>\n",
       "      <td>7</td>\n",
       "      <td>ERS</td>\n",
       "      <td>Noida</td>\n",
       "      <td>34</td>\n",
       "      <td>Joined</td>\n",
       "    </tr>\n",
       "    <tr>\n",
       "      <th>1</th>\n",
       "      <td>2</td>\n",
       "      <td>2112635</td>\n",
       "      <td>No</td>\n",
       "      <td>18</td>\n",
       "      <td>30</td>\n",
       "      <td>E2</td>\n",
       "      <td>50.00</td>\n",
       "      <td>320.00</td>\n",
       "      <td>180.00</td>\n",
       "      <td>No</td>\n",
       "      <td>No</td>\n",
       "      <td>Male</td>\n",
       "      <td>Employee Referral</td>\n",
       "      <td>8</td>\n",
       "      <td>INFRA</td>\n",
       "      <td>Chennai</td>\n",
       "      <td>34</td>\n",
       "      <td>Joined</td>\n",
       "    </tr>\n",
       "    <tr>\n",
       "      <th>2</th>\n",
       "      <td>3</td>\n",
       "      <td>2112838</td>\n",
       "      <td>No</td>\n",
       "      <td>3</td>\n",
       "      <td>45</td>\n",
       "      <td>E2</td>\n",
       "      <td>42.84</td>\n",
       "      <td>42.84</td>\n",
       "      <td>0.00</td>\n",
       "      <td>No</td>\n",
       "      <td>No</td>\n",
       "      <td>Male</td>\n",
       "      <td>Agency</td>\n",
       "      <td>4</td>\n",
       "      <td>INFRA</td>\n",
       "      <td>Noida</td>\n",
       "      <td>27</td>\n",
       "      <td>Joined</td>\n",
       "    </tr>\n",
       "    <tr>\n",
       "      <th>3</th>\n",
       "      <td>4</td>\n",
       "      <td>2115021</td>\n",
       "      <td>No</td>\n",
       "      <td>26</td>\n",
       "      <td>30</td>\n",
       "      <td>E2</td>\n",
       "      <td>42.84</td>\n",
       "      <td>42.84</td>\n",
       "      <td>0.00</td>\n",
       "      <td>No</td>\n",
       "      <td>No</td>\n",
       "      <td>Male</td>\n",
       "      <td>Employee Referral</td>\n",
       "      <td>4</td>\n",
       "      <td>INFRA</td>\n",
       "      <td>Noida</td>\n",
       "      <td>34</td>\n",
       "      <td>Joined</td>\n",
       "    </tr>\n",
       "    <tr>\n",
       "      <th>4</th>\n",
       "      <td>5</td>\n",
       "      <td>2115125</td>\n",
       "      <td>Yes</td>\n",
       "      <td>1</td>\n",
       "      <td>120</td>\n",
       "      <td>E2</td>\n",
       "      <td>42.59</td>\n",
       "      <td>42.59</td>\n",
       "      <td>0.00</td>\n",
       "      <td>No</td>\n",
       "      <td>Yes</td>\n",
       "      <td>Male</td>\n",
       "      <td>Employee Referral</td>\n",
       "      <td>6</td>\n",
       "      <td>INFRA</td>\n",
       "      <td>Noida</td>\n",
       "      <td>34</td>\n",
       "      <td>Joined</td>\n",
       "    </tr>\n",
       "    <tr>\n",
       "      <th>5</th>\n",
       "      <td>6</td>\n",
       "      <td>2117167</td>\n",
       "      <td>Yes</td>\n",
       "      <td>17</td>\n",
       "      <td>30</td>\n",
       "      <td>E1</td>\n",
       "      <td>42.83</td>\n",
       "      <td>42.83</td>\n",
       "      <td>0.00</td>\n",
       "      <td>No</td>\n",
       "      <td>No</td>\n",
       "      <td>Male</td>\n",
       "      <td>Employee Referral</td>\n",
       "      <td>2</td>\n",
       "      <td>INFRA</td>\n",
       "      <td>Noida</td>\n",
       "      <td>34</td>\n",
       "      <td>Joined</td>\n",
       "    </tr>\n",
       "    <tr>\n",
       "      <th>6</th>\n",
       "      <td>7</td>\n",
       "      <td>2119124</td>\n",
       "      <td>Yes</td>\n",
       "      <td>37</td>\n",
       "      <td>30</td>\n",
       "      <td>E2</td>\n",
       "      <td>31.58</td>\n",
       "      <td>31.58</td>\n",
       "      <td>0.00</td>\n",
       "      <td>No</td>\n",
       "      <td>No</td>\n",
       "      <td>Male</td>\n",
       "      <td>Employee Referral</td>\n",
       "      <td>7</td>\n",
       "      <td>INFRA</td>\n",
       "      <td>Noida</td>\n",
       "      <td>32</td>\n",
       "      <td>Joined</td>\n",
       "    </tr>\n",
       "    <tr>\n",
       "      <th>7</th>\n",
       "      <td>9</td>\n",
       "      <td>2127572</td>\n",
       "      <td>Yes</td>\n",
       "      <td>16</td>\n",
       "      <td>0</td>\n",
       "      <td>E1</td>\n",
       "      <td>-20.00</td>\n",
       "      <td>-20.00</td>\n",
       "      <td>0.00</td>\n",
       "      <td>No</td>\n",
       "      <td>No</td>\n",
       "      <td>Female</td>\n",
       "      <td>Direct</td>\n",
       "      <td>8</td>\n",
       "      <td>Healthcare</td>\n",
       "      <td>Noida</td>\n",
       "      <td>34</td>\n",
       "      <td>Joined</td>\n",
       "    </tr>\n",
       "    <tr>\n",
       "      <th>8</th>\n",
       "      <td>11</td>\n",
       "      <td>2138169</td>\n",
       "      <td>No</td>\n",
       "      <td>1</td>\n",
       "      <td>30</td>\n",
       "      <td>E1</td>\n",
       "      <td>-22.22</td>\n",
       "      <td>-22.22</td>\n",
       "      <td>0.00</td>\n",
       "      <td>No</td>\n",
       "      <td>No</td>\n",
       "      <td>Female</td>\n",
       "      <td>Employee Referral</td>\n",
       "      <td>3</td>\n",
       "      <td>BFSI</td>\n",
       "      <td>Gurgaon</td>\n",
       "      <td>26</td>\n",
       "      <td>Joined</td>\n",
       "    </tr>\n",
       "    <tr>\n",
       "      <th>9</th>\n",
       "      <td>12</td>\n",
       "      <td>2143362</td>\n",
       "      <td>No</td>\n",
       "      <td>6</td>\n",
       "      <td>30</td>\n",
       "      <td>E1</td>\n",
       "      <td>240.00</td>\n",
       "      <td>220.00</td>\n",
       "      <td>-5.88</td>\n",
       "      <td>No</td>\n",
       "      <td>No</td>\n",
       "      <td>Male</td>\n",
       "      <td>Employee Referral</td>\n",
       "      <td>3</td>\n",
       "      <td>CSMP</td>\n",
       "      <td>Chennai</td>\n",
       "      <td>34</td>\n",
       "      <td>Joined</td>\n",
       "    </tr>\n",
       "  </tbody>\n",
       "</table>\n",
       "</div>"
      ],
      "text/plain": [
       "   SLNO  Candidate Ref DOJ Extended  Duration to accept offer  Notice period  \\\n",
       "0     1        2110407          Yes                        14             30   \n",
       "1     2        2112635           No                        18             30   \n",
       "2     3        2112838           No                         3             45   \n",
       "3     4        2115021           No                        26             30   \n",
       "4     5        2115125          Yes                         1            120   \n",
       "5     6        2117167          Yes                        17             30   \n",
       "6     7        2119124          Yes                        37             30   \n",
       "7     9        2127572          Yes                        16              0   \n",
       "8    11        2138169           No                         1             30   \n",
       "9    12        2143362           No                         6             30   \n",
       "\n",
       "  Offered band  Pecent hike expected in CTC  Percent hike offered in CTC  \\\n",
       "0           E2                       -20.79                        13.16   \n",
       "1           E2                        50.00                       320.00   \n",
       "2           E2                        42.84                        42.84   \n",
       "3           E2                        42.84                        42.84   \n",
       "4           E2                        42.59                        42.59   \n",
       "5           E1                        42.83                        42.83   \n",
       "6           E2                        31.58                        31.58   \n",
       "7           E1                       -20.00                       -20.00   \n",
       "8           E1                       -22.22                       -22.22   \n",
       "9           E1                       240.00                       220.00   \n",
       "\n",
       "   Percent difference CTC Joining Bonus Candidate relocate actual  Gender  \\\n",
       "0                   42.86            No                        No  Female   \n",
       "1                  180.00            No                        No    Male   \n",
       "2                    0.00            No                        No    Male   \n",
       "3                    0.00            No                        No    Male   \n",
       "4                    0.00            No                       Yes    Male   \n",
       "5                    0.00            No                        No    Male   \n",
       "6                    0.00            No                        No    Male   \n",
       "7                    0.00            No                        No  Female   \n",
       "8                    0.00            No                        No  Female   \n",
       "9                   -5.88            No                        No    Male   \n",
       "\n",
       "    Candidate Source  Rex in Yrs         LOB Location  Age  Status  \n",
       "0             Agency           7         ERS    Noida   34  Joined  \n",
       "1  Employee Referral           8       INFRA  Chennai   34  Joined  \n",
       "2             Agency           4       INFRA    Noida   27  Joined  \n",
       "3  Employee Referral           4       INFRA    Noida   34  Joined  \n",
       "4  Employee Referral           6       INFRA    Noida   34  Joined  \n",
       "5  Employee Referral           2       INFRA    Noida   34  Joined  \n",
       "6  Employee Referral           7       INFRA    Noida   32  Joined  \n",
       "7             Direct           8  Healthcare    Noida   34  Joined  \n",
       "8  Employee Referral           3        BFSI  Gurgaon   26  Joined  \n",
       "9  Employee Referral           3        CSMP  Chennai   34  Joined  "
      ]
     },
     "execution_count": 5,
     "metadata": {},
     "output_type": "execute_result"
    }
   ],
   "source": [
    "data.head(10)"
   ]
  },
  {
   "cell_type": "markdown",
   "id": "0aabbfe0",
   "metadata": {},
   "source": [
    "Starting Spark Sessions "
   ]
  },
  {
   "cell_type": "code",
   "execution_count": 6,
   "id": "65dbd58d",
   "metadata": {},
   "outputs": [],
   "source": [
    "from pyspark.sql import SparkSession"
   ]
  },
  {
   "cell_type": "code",
   "execution_count": 7,
   "id": "61bca256",
   "metadata": {},
   "outputs": [
    {
     "name": "stderr",
     "output_type": "stream",
     "text": [
      "23/12/17 14:08:16 WARN Utils: Your hostname, Soumobratas-MacBook-Air.local resolves to a loopback address: 127.0.0.1; using 192.168.1.9 instead (on interface en0)\n",
      "23/12/17 14:08:16 WARN Utils: Set SPARK_LOCAL_IP if you need to bind to another address\n",
      "Setting default log level to \"WARN\".\n",
      "To adjust logging level use sc.setLogLevel(newLevel). For SparkR, use setLogLevel(newLevel).\n",
      "23/12/17 14:08:17 WARN NativeCodeLoader: Unable to load native-hadoop library for your platform... using builtin-java classes where applicable\n"
     ]
    }
   ],
   "source": [
    "spark = SparkSession.builder.appName('Testing').getOrCreate()"
   ]
  },
  {
   "cell_type": "code",
   "execution_count": 8,
   "id": "5aab1783",
   "metadata": {},
   "outputs": [
    {
     "data": {
      "text/html": [
       "\n",
       "            <div>\n",
       "                <p><b>SparkSession - in-memory</b></p>\n",
       "                \n",
       "        <div>\n",
       "            <p><b>SparkContext</b></p>\n",
       "\n",
       "            <p><a href=\"http://192.168.1.9:4040\">Spark UI</a></p>\n",
       "\n",
       "            <dl>\n",
       "              <dt>Version</dt>\n",
       "                <dd><code>v3.5.0</code></dd>\n",
       "              <dt>Master</dt>\n",
       "                <dd><code>local[*]</code></dd>\n",
       "              <dt>AppName</dt>\n",
       "                <dd><code>Testing</code></dd>\n",
       "            </dl>\n",
       "        </div>\n",
       "        \n",
       "            </div>\n",
       "        "
      ],
      "text/plain": [
       "<pyspark.sql.session.SparkSession at 0x11c4f8280>"
      ]
     },
     "execution_count": 8,
     "metadata": {},
     "output_type": "execute_result"
    }
   ],
   "source": [
    "spark"
   ]
  },
  {
   "cell_type": "markdown",
   "id": "48c8c42a",
   "metadata": {},
   "source": [
    "Reading CSV file using Pyspark"
   ]
  },
  {
   "cell_type": "code",
   "execution_count": 9,
   "id": "c0339ec8",
   "metadata": {},
   "outputs": [
    {
     "name": "stderr",
     "output_type": "stream",
     "text": [
      "                                                                                \r"
     ]
    }
   ],
   "source": [
    "data_pyspark = spark.read.csv('/Users/soumobratamanna/Documents/Data_Science_Projects/tensorflow-test/hr_data.csv')"
   ]
  },
  {
   "cell_type": "markdown",
   "id": "57e3a70f",
   "metadata": {},
   "source": [
    "Showing dataframe "
   ]
  },
  {
   "cell_type": "code",
   "execution_count": 10,
   "id": "08cfecb1",
   "metadata": {},
   "outputs": [
    {
     "name": "stdout",
     "output_type": "stream",
     "text": [
      "+----+-------------+------------+--------------------+-------------+------------+--------------------+--------------------+--------------------+-------------+--------------------+------+-----------------+----------+----------+---------+----+----------+\n",
      "| _c0|          _c1|         _c2|                 _c3|          _c4|         _c5|                 _c6|                 _c7|                 _c8|          _c9|                _c10|  _c11|             _c12|      _c13|      _c14|     _c15|_c16|      _c17|\n",
      "+----+-------------+------------+--------------------+-------------+------------+--------------------+--------------------+--------------------+-------------+--------------------+------+-----------------+----------+----------+---------+----+----------+\n",
      "|SLNO|Candidate Ref|DOJ Extended|Duration to accep...|Notice period|Offered band|Pecent hike expec...|Percent hike offe...|Percent differenc...|Joining Bonus|Candidate relocat...|Gender| Candidate Source|Rex in Yrs|       LOB| Location| Age|    Status|\n",
      "|   1|      2110407|         Yes|                  14|           30|          E2|              -20.79|               13.16|               42.86|           No|                  No|Female|           Agency|         7|       ERS|    Noida|  34|    Joined|\n",
      "|   2|      2112635|          No|                  18|           30|          E2|                  50|                 320|                 180|           No|                  No|  Male|Employee Referral|         8|     INFRA|  Chennai|  34|    Joined|\n",
      "|   3|      2112838|          No|                   3|           45|          E2|               42.84|               42.84|                   0|           No|                  No|  Male|           Agency|         4|     INFRA|    Noida|  27|    Joined|\n",
      "|   4|      2115021|          No|                  26|           30|          E2|               42.84|               42.84|                   0|           No|                  No|  Male|Employee Referral|         4|     INFRA|    Noida|  34|    Joined|\n",
      "|   5|      2115125|         Yes|                   1|          120|          E2|               42.59|               42.59|                   0|           No|                 Yes|  Male|Employee Referral|         6|     INFRA|    Noida|  34|    Joined|\n",
      "|   6|      2117167|         Yes|                  17|           30|          E1|               42.83|               42.83|                   0|           No|                  No|  Male|Employee Referral|         2|     INFRA|    Noida|  34|    Joined|\n",
      "|   7|      2119124|         Yes|                  37|           30|          E2|               31.58|               31.58|                   0|           No|                  No|  Male|Employee Referral|         7|     INFRA|    Noida|  32|    Joined|\n",
      "|   9|      2127572|         Yes|                  16|            0|          E1|                 -20|                 -20|                   0|           No|                  No|Female|           Direct|         8|Healthcare|    Noida|  34|    Joined|\n",
      "|  11|      2138169|          No|                   1|           30|          E1|              -22.22|              -22.22|                   0|           No|                  No|Female|Employee Referral|         3|      BFSI|  Gurgaon|  26|    Joined|\n",
      "|  12|      2143362|          No|                   6|           30|          E1|                 240|                 220|               -5.88|           No|                  No|  Male|Employee Referral|         3|      CSMP|  Chennai|  34|    Joined|\n",
      "|  13|      2151180|          No|                 120|           30|          E2|                5.26|              -60.53|               -62.5|           No|                  No|  Male|Employee Referral|         3|     INFRA|    Noida|  34|Not Joined|\n",
      "|  14|      2154264|          No|                   3|            0|          E2|               28.21|               37.18|                   7|           No|                  No|  Male|Employee Referral|         7|     INFRA|  Chennai|  34|    Joined|\n",
      "|  15|      2156236|         Yes|                  14|           30|          E2|                  50|               287.5|              158.33|           No|                  No|  Male|           Agency|         7|     INFRA|    Noida|  29|Not Joined|\n",
      "|  16|      2158703|          No|                  44|           75|          E2|               45.45|                  60|                  10|           No|                  No|  Male|           Direct|         8|     INFRA|    Noida|  34|Not Joined|\n",
      "|  17|      2161257|          No|                   7|           30|          E3|               53.85|                  50|                -2.5|           No|                  No|  Male|Employee Referral|         5|     INFRA|    Noida|  34|Not Joined|\n",
      "|  18|      2162487|          No|                   1|           30|          E3|              -27.31|              -27.31|                   0|           No|                  No|  Male|           Direct|        18|       ETS|Bangalore|  34|    Joined|\n",
      "|  19|      2166041|         Yes|                  98|           30|          E2|                  50|              165.36|               76.91|           No|                  No|  Male|           Agency|         8|     INFRA|    Noida|  36|Not Joined|\n",
      "|  20|      2172982|          No|                   1|            0|          E2|                  30|                  30|                   0|           No|                  No|  Male|           Direct|         6|     INFRA|    Noida|  34|    Joined|\n",
      "|  21|      2173730|          No|                   1|           30|          E1|              -13.42|               42.86|                  65|           No|                  No|  Male|           Direct|         1|     INFRA|  Gurgaon|  34|    Joined|\n",
      "+----+-------------+------------+--------------------+-------------+------------+--------------------+--------------------+--------------------+-------------+--------------------+------+-----------------+----------+----------+---------+----+----------+\n",
      "only showing top 20 rows\n",
      "\n"
     ]
    }
   ],
   "source": [
    "data_pyspark.show()"
   ]
  },
  {
   "cell_type": "markdown",
   "id": "f0738a6a",
   "metadata": {},
   "source": [
    "Changing the first row value to header using header true key value pair option in Pyspark"
   ]
  },
  {
   "cell_type": "code",
   "execution_count": 11,
   "id": "a194216d",
   "metadata": {},
   "outputs": [
    {
     "data": {
      "text/plain": [
       "DataFrame[SLNO: string, Candidate Ref: string, DOJ Extended: string, Duration to accept offer: string, Notice period: string, Offered band: string, Pecent hike expected in CTC: string, Percent hike offered in CTC: string, Percent difference CTC: string, Joining Bonus: string, Candidate relocate actual: string, Gender: string, Candidate Source: string, Rex in Yrs: string, LOB: string, Location: string, Age: string, Status: string]"
      ]
     },
     "execution_count": 11,
     "metadata": {},
     "output_type": "execute_result"
    }
   ],
   "source": [
    "spark.read.option('header','true').csv('/Users/soumobratamanna/Documents/Data_Science_Projects/tensorflow-test/hr_data.csv')"
   ]
  },
  {
   "cell_type": "code",
   "execution_count": 12,
   "id": "72028512",
   "metadata": {},
   "outputs": [
    {
     "name": "stdout",
     "output_type": "stream",
     "text": [
      "+----+-------------+------------+------------------------+-------------+------------+---------------------------+---------------------------+----------------------+-------------+-------------------------+------+-----------------+----------+----------+---------+---+----------+\n",
      "|SLNO|Candidate Ref|DOJ Extended|Duration to accept offer|Notice period|Offered band|Pecent hike expected in CTC|Percent hike offered in CTC|Percent difference CTC|Joining Bonus|Candidate relocate actual|Gender| Candidate Source|Rex in Yrs|       LOB| Location|Age|    Status|\n",
      "+----+-------------+------------+------------------------+-------------+------------+---------------------------+---------------------------+----------------------+-------------+-------------------------+------+-----------------+----------+----------+---------+---+----------+\n",
      "|   1|      2110407|         Yes|                      14|           30|          E2|                     -20.79|                      13.16|                 42.86|           No|                       No|Female|           Agency|         7|       ERS|    Noida| 34|    Joined|\n",
      "|   2|      2112635|          No|                      18|           30|          E2|                         50|                        320|                   180|           No|                       No|  Male|Employee Referral|         8|     INFRA|  Chennai| 34|    Joined|\n",
      "|   3|      2112838|          No|                       3|           45|          E2|                      42.84|                      42.84|                     0|           No|                       No|  Male|           Agency|         4|     INFRA|    Noida| 27|    Joined|\n",
      "|   4|      2115021|          No|                      26|           30|          E2|                      42.84|                      42.84|                     0|           No|                       No|  Male|Employee Referral|         4|     INFRA|    Noida| 34|    Joined|\n",
      "|   5|      2115125|         Yes|                       1|          120|          E2|                      42.59|                      42.59|                     0|           No|                      Yes|  Male|Employee Referral|         6|     INFRA|    Noida| 34|    Joined|\n",
      "|   6|      2117167|         Yes|                      17|           30|          E1|                      42.83|                      42.83|                     0|           No|                       No|  Male|Employee Referral|         2|     INFRA|    Noida| 34|    Joined|\n",
      "|   7|      2119124|         Yes|                      37|           30|          E2|                      31.58|                      31.58|                     0|           No|                       No|  Male|Employee Referral|         7|     INFRA|    Noida| 32|    Joined|\n",
      "|   9|      2127572|         Yes|                      16|            0|          E1|                        -20|                        -20|                     0|           No|                       No|Female|           Direct|         8|Healthcare|    Noida| 34|    Joined|\n",
      "|  11|      2138169|          No|                       1|           30|          E1|                     -22.22|                     -22.22|                     0|           No|                       No|Female|Employee Referral|         3|      BFSI|  Gurgaon| 26|    Joined|\n",
      "|  12|      2143362|          No|                       6|           30|          E1|                        240|                        220|                 -5.88|           No|                       No|  Male|Employee Referral|         3|      CSMP|  Chennai| 34|    Joined|\n",
      "|  13|      2151180|          No|                     120|           30|          E2|                       5.26|                     -60.53|                 -62.5|           No|                       No|  Male|Employee Referral|         3|     INFRA|    Noida| 34|Not Joined|\n",
      "|  14|      2154264|          No|                       3|            0|          E2|                      28.21|                      37.18|                     7|           No|                       No|  Male|Employee Referral|         7|     INFRA|  Chennai| 34|    Joined|\n",
      "|  15|      2156236|         Yes|                      14|           30|          E2|                         50|                      287.5|                158.33|           No|                       No|  Male|           Agency|         7|     INFRA|    Noida| 29|Not Joined|\n",
      "|  16|      2158703|          No|                      44|           75|          E2|                      45.45|                         60|                    10|           No|                       No|  Male|           Direct|         8|     INFRA|    Noida| 34|Not Joined|\n",
      "|  17|      2161257|          No|                       7|           30|          E3|                      53.85|                         50|                  -2.5|           No|                       No|  Male|Employee Referral|         5|     INFRA|    Noida| 34|Not Joined|\n",
      "|  18|      2162487|          No|                       1|           30|          E3|                     -27.31|                     -27.31|                     0|           No|                       No|  Male|           Direct|        18|       ETS|Bangalore| 34|    Joined|\n",
      "|  19|      2166041|         Yes|                      98|           30|          E2|                         50|                     165.36|                 76.91|           No|                       No|  Male|           Agency|         8|     INFRA|    Noida| 36|Not Joined|\n",
      "|  20|      2172982|          No|                       1|            0|          E2|                         30|                         30|                     0|           No|                       No|  Male|           Direct|         6|     INFRA|    Noida| 34|    Joined|\n",
      "|  21|      2173730|          No|                       1|           30|          E1|                     -13.42|                      42.86|                    65|           No|                       No|  Male|           Direct|         1|     INFRA|  Gurgaon| 34|    Joined|\n",
      "|  22|      2175237|          No|                       7|           30|          E1|                     221.43|                     164.29|                -17.78|           No|                       No|  Male|           Direct|         2|       ERS|    Noida| 34|    Joined|\n",
      "+----+-------------+------------+------------------------+-------------+------------+---------------------------+---------------------------+----------------------+-------------+-------------------------+------+-----------------+----------+----------+---------+---+----------+\n",
      "only showing top 20 rows\n",
      "\n"
     ]
    }
   ],
   "source": [
    "spark.read.option('header','true').csv('/Users/soumobratamanna/Documents/Data_Science_Projects/tensorflow-test/hr_data.csv').show()"
   ]
  },
  {
   "cell_type": "markdown",
   "id": "24b28750",
   "metadata": {},
   "source": [
    "Saving under a variable for further execution"
   ]
  },
  {
   "cell_type": "code",
   "execution_count": 13,
   "id": "831f7b4c",
   "metadata": {},
   "outputs": [],
   "source": [
    "data_pyspark = spark.read.option('header','true').csv('/Users/soumobratamanna/Documents/Data_Science_Projects/tensorflow-test/hr_data.csv')\n"
   ]
  },
  {
   "cell_type": "markdown",
   "id": "2e0057d2",
   "metadata": {},
   "source": [
    "Checking the type of variable created "
   ]
  },
  {
   "cell_type": "code",
   "execution_count": 14,
   "id": "fd2345db",
   "metadata": {},
   "outputs": [
    {
     "data": {
      "text/plain": [
       "pyspark.sql.dataframe.DataFrame"
      ]
     },
     "execution_count": 14,
     "metadata": {},
     "output_type": "execute_result"
    }
   ],
   "source": [
    "type(data_pyspark)"
   ]
  },
  {
   "cell_type": "code",
   "execution_count": 15,
   "id": "e52209da",
   "metadata": {},
   "outputs": [
    {
     "data": {
      "text/plain": [
       "Row(SLNO='1', Candidate Ref='2110407', DOJ Extended='Yes', Duration to accept offer='14', Notice period='30', Offered band='E2', Pecent hike expected in CTC='-20.79', Percent hike offered in CTC='13.16', Percent difference CTC='42.86', Joining Bonus='No', Candidate relocate actual='No', Gender='Female', Candidate Source='Agency', Rex in Yrs='7', LOB='ERS', Location='Noida', Age='34', Status='Joined')"
      ]
     },
     "execution_count": 15,
     "metadata": {},
     "output_type": "execute_result"
    }
   ],
   "source": [
    "data_pyspark.head()"
   ]
  },
  {
   "cell_type": "markdown",
   "id": "b464f0ea",
   "metadata": {},
   "source": [
    "Checking the overall schema structure using printSchema() function "
   ]
  },
  {
   "cell_type": "code",
   "execution_count": 16,
   "id": "b09f8d94",
   "metadata": {},
   "outputs": [
    {
     "name": "stdout",
     "output_type": "stream",
     "text": [
      "root\n",
      " |-- SLNO: string (nullable = true)\n",
      " |-- Candidate Ref: string (nullable = true)\n",
      " |-- DOJ Extended: string (nullable = true)\n",
      " |-- Duration to accept offer: string (nullable = true)\n",
      " |-- Notice period: string (nullable = true)\n",
      " |-- Offered band: string (nullable = true)\n",
      " |-- Pecent hike expected in CTC: string (nullable = true)\n",
      " |-- Percent hike offered in CTC: string (nullable = true)\n",
      " |-- Percent difference CTC: string (nullable = true)\n",
      " |-- Joining Bonus: string (nullable = true)\n",
      " |-- Candidate relocate actual: string (nullable = true)\n",
      " |-- Gender: string (nullable = true)\n",
      " |-- Candidate Source: string (nullable = true)\n",
      " |-- Rex in Yrs: string (nullable = true)\n",
      " |-- LOB: string (nullable = true)\n",
      " |-- Location: string (nullable = true)\n",
      " |-- Age: string (nullable = true)\n",
      " |-- Status: string (nullable = true)\n",
      "\n"
     ]
    }
   ],
   "source": [
    "data_pyspark.printSchema()"
   ]
  },
  {
   "cell_type": "code",
   "execution_count": null,
   "id": "a70a1561",
   "metadata": {},
   "outputs": [],
   "source": []
  }
 ],
 "metadata": {
  "kernelspec": {
   "display_name": "Python 3 (ipykernel)",
   "language": "python",
   "name": "python3"
  },
  "language_info": {
   "codemirror_mode": {
    "name": "ipython",
    "version": 3
   },
   "file_extension": ".py",
   "mimetype": "text/x-python",
   "name": "python",
   "nbconvert_exporter": "python",
   "pygments_lexer": "ipython3",
   "version": "3.9.13"
  }
 },
 "nbformat": 4,
 "nbformat_minor": 5
}
