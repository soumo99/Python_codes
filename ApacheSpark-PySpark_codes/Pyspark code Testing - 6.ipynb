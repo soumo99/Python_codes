{
 "cells": [
  {
   "cell_type": "markdown",
   "id": "0697dd2a",
   "metadata": {},
   "source": [
    "# Pyspark code Testing - 6 \n",
    "# MLib\n"
   ]
  },
  {
   "cell_type": "code",
   "execution_count": 1,
   "id": "15aef57a",
   "metadata": {},
   "outputs": [],
   "source": [
    "from pyspark.sql import SparkSession"
   ]
  },
  {
   "cell_type": "code",
   "execution_count": 2,
   "id": "b36ddefa",
   "metadata": {},
   "outputs": [
    {
     "name": "stderr",
     "output_type": "stream",
     "text": [
      "23/12/18 21:07:43 WARN Utils: Your hostname, Soumobratas-MacBook-Air.local resolves to a loopback address: 127.0.0.1; using 192.168.1.2 instead (on interface en0)\n",
      "23/12/18 21:07:43 WARN Utils: Set SPARK_LOCAL_IP if you need to bind to another address\n",
      "Setting default log level to \"WARN\".\n",
      "To adjust logging level use sc.setLogLevel(newLevel). For SparkR, use setLogLevel(newLevel).\n",
      "23/12/18 21:07:43 WARN NativeCodeLoader: Unable to load native-hadoop library for your platform... using builtin-java classes where applicable\n",
      "23/12/18 21:07:44 WARN Utils: Service 'SparkUI' could not bind on port 4040. Attempting port 4041.\n",
      "23/12/18 21:07:44 WARN Utils: Service 'SparkUI' could not bind on port 4041. Attempting port 4042.\n",
      "23/12/18 21:07:44 WARN Utils: Service 'SparkUI' could not bind on port 4042. Attempting port 4043.\n"
     ]
    }
   ],
   "source": [
    "spark = SparkSession.builder.appName('ML').getOrCreate()"
   ]
  },
  {
   "cell_type": "code",
   "execution_count": 3,
   "id": "86a3fa83",
   "metadata": {},
   "outputs": [
    {
     "name": "stderr",
     "output_type": "stream",
     "text": [
      "                                                                                \r"
     ]
    }
   ],
   "source": [
    "training = spark.read.csv('sample_dataframe.csv',header=True,inferSchema=True)"
   ]
  },
  {
   "cell_type": "code",
   "execution_count": 4,
   "id": "ce6e9876",
   "metadata": {},
   "outputs": [
    {
     "name": "stdout",
     "output_type": "stream",
     "text": [
      "+---------+---+---------+---+------+\n",
      "|     Name|Age|     City|Exp|salary|\n",
      "+---------+---+---------+---+------+\n",
      "|    Soumo| 23|Bangalore|  2|  1000|\n",
      "|  Subrata| 53|  Chennai|  3|  2000|\n",
      "|Anindita | 50|  Chennai|  2|  3000|\n",
      "|  Purnima| 75|Bangalore|  4|   800|\n",
      "|      Uma| 80|  Chennai|  5|   600|\n",
      "+---------+---+---------+---+------+\n",
      "\n"
     ]
    }
   ],
   "source": [
    "training.show()"
   ]
  },
  {
   "cell_type": "code",
   "execution_count": 5,
   "id": "27439fc4",
   "metadata": {},
   "outputs": [
    {
     "name": "stdout",
     "output_type": "stream",
     "text": [
      "root\n",
      " |-- Name: string (nullable = true)\n",
      " |-- Age: integer (nullable = true)\n",
      " |-- City: string (nullable = true)\n",
      " |-- Exp: integer (nullable = true)\n",
      " |-- salary: integer (nullable = true)\n",
      "\n"
     ]
    }
   ],
   "source": [
    "training.printSchema()"
   ]
  },
  {
   "cell_type": "code",
   "execution_count": 6,
   "id": "fe56701a",
   "metadata": {},
   "outputs": [
    {
     "data": {
      "text/plain": [
       "['Name', 'Age', 'City', 'Exp', 'salary']"
      ]
     },
     "execution_count": 6,
     "metadata": {},
     "output_type": "execute_result"
    }
   ],
   "source": [
    "training.columns"
   ]
  },
  {
   "cell_type": "markdown",
   "id": "b83c6d30",
   "metadata": {},
   "source": [
    "['Age','Exp'] -------> new feature ------> Independent Feature"
   ]
  },
  {
   "cell_type": "code",
   "execution_count": 11,
   "id": "2e59316e",
   "metadata": {},
   "outputs": [],
   "source": [
    "from pyspark.ml.feature import VectorAssembler\n",
    "featureassembler = VectorAssembler(inputCols=['Age','Exp'],outputCol='Independent Feature')"
   ]
  },
  {
   "cell_type": "code",
   "execution_count": 12,
   "id": "1330e4ee",
   "metadata": {},
   "outputs": [],
   "source": [
    "output = featureassembler.transform(training)"
   ]
  },
  {
   "cell_type": "code",
   "execution_count": 13,
   "id": "0a3ac199",
   "metadata": {},
   "outputs": [
    {
     "name": "stdout",
     "output_type": "stream",
     "text": [
      "+---------+---+---------+---+------+-------------------+\n",
      "|     Name|Age|     City|Exp|salary|Independent Feature|\n",
      "+---------+---+---------+---+------+-------------------+\n",
      "|    Soumo| 23|Bangalore|  2|  1000|         [23.0,2.0]|\n",
      "|  Subrata| 53|  Chennai|  3|  2000|         [53.0,3.0]|\n",
      "|Anindita | 50|  Chennai|  2|  3000|         [50.0,2.0]|\n",
      "|  Purnima| 75|Bangalore|  4|   800|         [75.0,4.0]|\n",
      "|      Uma| 80|  Chennai|  5|   600|         [80.0,5.0]|\n",
      "+---------+---+---------+---+------+-------------------+\n",
      "\n"
     ]
    }
   ],
   "source": [
    "output.show()"
   ]
  },
  {
   "cell_type": "code",
   "execution_count": 14,
   "id": "aacac484",
   "metadata": {},
   "outputs": [
    {
     "data": {
      "text/plain": [
       "['Name', 'Age', 'City', 'Exp', 'salary', 'Independent Feature']"
      ]
     },
     "execution_count": 14,
     "metadata": {},
     "output_type": "execute_result"
    }
   ],
   "source": [
    "output.columns"
   ]
  },
  {
   "cell_type": "code",
   "execution_count": 15,
   "id": "30e68433",
   "metadata": {},
   "outputs": [],
   "source": [
    "finalized_data = output.select(\"Independent Feature\",'salary')"
   ]
  },
  {
   "cell_type": "code",
   "execution_count": 16,
   "id": "1f42505c",
   "metadata": {},
   "outputs": [
    {
     "name": "stdout",
     "output_type": "stream",
     "text": [
      "+-------------------+------+\n",
      "|Independent Feature|salary|\n",
      "+-------------------+------+\n",
      "|         [23.0,2.0]|  1000|\n",
      "|         [53.0,3.0]|  2000|\n",
      "|         [50.0,2.0]|  3000|\n",
      "|         [75.0,4.0]|   800|\n",
      "|         [80.0,5.0]|   600|\n",
      "+-------------------+------+\n",
      "\n"
     ]
    }
   ],
   "source": [
    "finalized_data.show()"
   ]
  },
  {
   "cell_type": "code",
   "execution_count": 17,
   "id": "a63d28bf",
   "metadata": {},
   "outputs": [
    {
     "name": "stderr",
     "output_type": "stream",
     "text": [
      "Exception ignored in: <function JavaWrapper.__del__ at 0x11834d670>\n",
      "Traceback (most recent call last):\n",
      "  File \"/Users/soumobratamanna/miniforge3/lib/python3.9/site-packages/pyspark/ml/wrapper.py\", line 53, in __del__\n",
      "    if SparkContext._active_spark_context and self._java_obj is not None:\n",
      "AttributeError: 'VectorAssembler' object has no attribute '_java_obj'\n",
      "Exception ignored in: <function JavaWrapper.__del__ at 0x11834d670>\n",
      "Traceback (most recent call last):\n",
      "  File \"/Users/soumobratamanna/miniforge3/lib/python3.9/site-packages/pyspark/ml/wrapper.py\", line 53, in __del__\n",
      "    if SparkContext._active_spark_context and self._java_obj is not None:\n",
      "AttributeError: 'VectorAssembler' object has no attribute '_java_obj'\n",
      "23/12/18 21:45:54 WARN Instrumentation: [85dfd7d7] regParam is zero, which might cause numerical instability and overfitting.\n",
      "23/12/18 21:45:55 WARN InstanceBuilder: Failed to load implementation from:dev.ludovic.netlib.blas.JNIBLAS\n",
      "23/12/18 21:45:55 WARN InstanceBuilder: Failed to load implementation from:dev.ludovic.netlib.blas.VectorBLAS\n",
      "23/12/18 21:45:55 WARN InstanceBuilder: Failed to load implementation from:dev.ludovic.netlib.lapack.JNILAPACK\n"
     ]
    }
   ],
   "source": [
    "from pyspark.ml.regression import LinearRegression\n",
    "#train test split\n",
    "# 0.75 will contain training data and the remaining 0.25 will contain the test data\n",
    "train_data,test_data = finalized_data.randomSplit([0.75,0.25])\n",
    "regressor = LinearRegression(featuresCol='Independent Feature',labelCol='salary')\n",
    "regressor = regressor.fit(train_data)"
   ]
  },
  {
   "cell_type": "markdown",
   "id": "a91aa54f",
   "metadata": {},
   "source": [
    "Coefficients"
   ]
  },
  {
   "cell_type": "code",
   "execution_count": 19,
   "id": "c450f808",
   "metadata": {},
   "outputs": [
    {
     "data": {
      "text/plain": [
       "DenseVector([59.4917, -1437.3849])"
      ]
     },
     "execution_count": 19,
     "metadata": {},
     "output_type": "execute_result"
    }
   ],
   "source": [
    "regressor.coefficients"
   ]
  },
  {
   "cell_type": "markdown",
   "id": "795b3ab5",
   "metadata": {},
   "source": [
    "Intercepts"
   ]
  },
  {
   "cell_type": "code",
   "execution_count": 21,
   "id": "1c3f6858",
   "metadata": {},
   "outputs": [
    {
     "data": {
      "text/plain": [
       "2736.2005679063595"
      ]
     },
     "execution_count": 21,
     "metadata": {},
     "output_type": "execute_result"
    }
   ],
   "source": [
    "regressor.intercept"
   ]
  },
  {
   "cell_type": "markdown",
   "id": "4033e300",
   "metadata": {},
   "source": [
    "Prediction"
   ]
  },
  {
   "cell_type": "code",
   "execution_count": 25,
   "id": "e4eda190",
   "metadata": {},
   "outputs": [],
   "source": [
    "#pred_results = regressor.evaluate(test_data)"
   ]
  },
  {
   "cell_type": "code",
   "execution_count": 26,
   "id": "f91b8c1d",
   "metadata": {},
   "outputs": [],
   "source": [
    "#pred_results.predictions.show()"
   ]
  },
  {
   "cell_type": "code",
   "execution_count": null,
   "id": "e3060bc1",
   "metadata": {},
   "outputs": [],
   "source": []
  }
 ],
 "metadata": {
  "kernelspec": {
   "display_name": "Python 3 (ipykernel)",
   "language": "python",
   "name": "python3"
  },
  "language_info": {
   "codemirror_mode": {
    "name": "ipython",
    "version": 3
   },
   "file_extension": ".py",
   "mimetype": "text/x-python",
   "name": "python",
   "nbconvert_exporter": "python",
   "pygments_lexer": "ipython3",
   "version": "3.9.13"
  }
 },
 "nbformat": 4,
 "nbformat_minor": 5
}
