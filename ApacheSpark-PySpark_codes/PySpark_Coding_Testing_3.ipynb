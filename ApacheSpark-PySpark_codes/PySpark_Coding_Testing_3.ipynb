{
 "cells": [
  {
   "cell_type": "markdown",
   "id": "aa719f77",
   "metadata": {},
   "source": [
    "# PySpark_Coding_Testing_3 - Handling Missing Values"
   ]
  },
  {
   "cell_type": "code",
   "execution_count": 1,
   "id": "c1106c6f",
   "metadata": {},
   "outputs": [
    {
     "name": "stderr",
     "output_type": "stream",
     "text": [
      "23/12/18 19:31:28 WARN Utils: Your hostname, Soumobratas-MacBook-Air.local resolves to a loopback address: 127.0.0.1; using 192.168.1.2 instead (on interface en0)\n",
      "23/12/18 19:31:28 WARN Utils: Set SPARK_LOCAL_IP if you need to bind to another address\n",
      "Setting default log level to \"WARN\".\n",
      "To adjust logging level use sc.setLogLevel(newLevel). For SparkR, use setLogLevel(newLevel).\n",
      "23/12/18 19:31:32 WARN NativeCodeLoader: Unable to load native-hadoop library for your platform... using builtin-java classes where applicable\n"
     ]
    }
   ],
   "source": [
    "from pyspark.sql import SparkSession\n",
    "spark = SparkSession.builder.appName('Testing_2').getOrCreate()"
   ]
  },
  {
   "cell_type": "code",
   "execution_count": 2,
   "id": "606862b4",
   "metadata": {},
   "outputs": [
    {
     "data": {
      "text/html": [
       "\n",
       "            <div>\n",
       "                <p><b>SparkSession - in-memory</b></p>\n",
       "                \n",
       "        <div>\n",
       "            <p><b>SparkContext</b></p>\n",
       "\n",
       "            <p><a href=\"http://192.168.1.2:4040\">Spark UI</a></p>\n",
       "\n",
       "            <dl>\n",
       "              <dt>Version</dt>\n",
       "                <dd><code>v3.5.0</code></dd>\n",
       "              <dt>Master</dt>\n",
       "                <dd><code>local[*]</code></dd>\n",
       "              <dt>AppName</dt>\n",
       "                <dd><code>Testing_2</code></dd>\n",
       "            </dl>\n",
       "        </div>\n",
       "        \n",
       "            </div>\n",
       "        "
      ],
      "text/plain": [
       "<pyspark.sql.session.SparkSession at 0x1176efa60>"
      ]
     },
     "execution_count": 2,
     "metadata": {},
     "output_type": "execute_result"
    }
   ],
   "source": [
    "spark"
   ]
  },
  {
   "cell_type": "code",
   "execution_count": 3,
   "id": "cf086fa1",
   "metadata": {},
   "outputs": [
    {
     "data": {
      "text/plain": [
       "DataFrame[Name: string, Age: int, City: string]"
      ]
     },
     "execution_count": 3,
     "metadata": {},
     "output_type": "execute_result"
    }
   ],
   "source": [
    "spark.read.csv('sample_dataframe.csv',header=True,inferSchema=True)"
   ]
  },
  {
   "cell_type": "code",
   "execution_count": 4,
   "id": "452092c6",
   "metadata": {},
   "outputs": [
    {
     "name": "stdout",
     "output_type": "stream",
     "text": [
      "+---------+----+---------+\n",
      "|     Name| Age|     City|\n",
      "+---------+----+---------+\n",
      "|    Soumo|  23|Bangalore|\n",
      "|  Subrata|  53|  Chennai|\n",
      "|Anindita |  50|  Chennai|\n",
      "|  Purnima|NULL|Bangalore|\n",
      "|      Uma|  80|     NULL|\n",
      "+---------+----+---------+\n",
      "\n"
     ]
    }
   ],
   "source": [
    "spark.read.csv('sample_dataframe.csv',header=True,inferSchema=True).show()"
   ]
  },
  {
   "cell_type": "code",
   "execution_count": 5,
   "id": "6fdbad4a",
   "metadata": {},
   "outputs": [],
   "source": [
    "df_pyspark = spark.read.csv('sample_dataframe.csv',header=True,inferSchema=True)"
   ]
  },
  {
   "cell_type": "code",
   "execution_count": 6,
   "id": "ad2d6432",
   "metadata": {},
   "outputs": [
    {
     "name": "stdout",
     "output_type": "stream",
     "text": [
      "+---------+----+---------+\n",
      "|     Name| Age|     City|\n",
      "+---------+----+---------+\n",
      "|    Soumo|  23|Bangalore|\n",
      "|  Subrata|  53|  Chennai|\n",
      "|Anindita |  50|  Chennai|\n",
      "|  Purnima|NULL|Bangalore|\n",
      "|      Uma|  80|     NULL|\n",
      "+---------+----+---------+\n",
      "\n"
     ]
    }
   ],
   "source": [
    "df_pyspark.show()"
   ]
  },
  {
   "cell_type": "markdown",
   "id": "98281ade",
   "metadata": {},
   "source": [
    "Dropping the Null values will result in dropping the entire columns using na.drop "
   ]
  },
  {
   "cell_type": "code",
   "execution_count": 7,
   "id": "090fee81",
   "metadata": {},
   "outputs": [
    {
     "name": "stdout",
     "output_type": "stream",
     "text": [
      "+---------+---+---------+\n",
      "|     Name|Age|     City|\n",
      "+---------+---+---------+\n",
      "|    Soumo| 23|Bangalore|\n",
      "|  Subrata| 53|  Chennai|\n",
      "|Anindita | 50|  Chennai|\n",
      "+---------+---+---------+\n",
      "\n"
     ]
    }
   ],
   "source": [
    "df_pyspark.na.drop().show()"
   ]
  },
  {
   "cell_type": "code",
   "execution_count": 8,
   "id": "ecbf3a91",
   "metadata": {},
   "outputs": [],
   "source": [
    "#### dropping in condition of any==how\n",
    "##df_pyspark.na.drop(how=\"all\").show -- will drop the rows which contains all null values \n",
    "##df_pyspark.na.drop(how='any').show -- will drop the rows which contains any one null values \n"
   ]
  },
  {
   "cell_type": "code",
   "execution_count": 9,
   "id": "19598b0d",
   "metadata": {},
   "outputs": [],
   "source": [
    "##threshold - means whichever value is being selected , it will check the dataframe and will delete the rows with mentioned number of threshold value\n",
    "##Like if thresh=2, then it iwll check the dataframe for rows which has 2 null values and based on that it drop the entire row"
   ]
  },
  {
   "cell_type": "code",
   "execution_count": 10,
   "id": "504f50ba",
   "metadata": {},
   "outputs": [],
   "source": [
    "##subset\n",
    "## in subset whicheber column is being mentioned it checks for null vlaues and deletes the entire rows "
   ]
  },
  {
   "cell_type": "code",
   "execution_count": 11,
   "id": "18a9e228",
   "metadata": {},
   "outputs": [
    {
     "name": "stdout",
     "output_type": "stream",
     "text": [
      "+---------+----+---------+\n",
      "|     Name| Age|     City|\n",
      "+---------+----+---------+\n",
      "|    Soumo|  23|Bangalore|\n",
      "|  Subrata|  53|  Chennai|\n",
      "|Anindita |  50|  Chennai|\n",
      "|  Purnima|NULL|Bangalore|\n",
      "|      Uma|  80|     NULL|\n",
      "+---------+----+---------+\n",
      "\n"
     ]
    }
   ],
   "source": [
    "df_pyspark.show()"
   ]
  },
  {
   "cell_type": "code",
   "execution_count": 12,
   "id": "ac6183c7",
   "metadata": {},
   "outputs": [
    {
     "name": "stdout",
     "output_type": "stream",
     "text": [
      "+---------+---+---------+\n",
      "|     Name|Age|     City|\n",
      "+---------+---+---------+\n",
      "|    Soumo| 23|Bangalore|\n",
      "|  Subrata| 53|  Chennai|\n",
      "|Anindita | 50|  Chennai|\n",
      "+---------+---+---------+\n",
      "\n"
     ]
    }
   ],
   "source": [
    "df_pyspark.na.drop(how='any').show()"
   ]
  },
  {
   "cell_type": "code",
   "execution_count": 13,
   "id": "65afbc04",
   "metadata": {},
   "outputs": [
    {
     "name": "stdout",
     "output_type": "stream",
     "text": [
      "+---------+----+---------+\n",
      "|     Name| Age|     City|\n",
      "+---------+----+---------+\n",
      "|    Soumo|  23|Bangalore|\n",
      "|  Subrata|  53|  Chennai|\n",
      "|Anindita |  50|  Chennai|\n",
      "|  Purnima|NULL|Bangalore|\n",
      "+---------+----+---------+\n",
      "\n"
     ]
    }
   ],
   "source": [
    "df_pyspark.na.drop(how='any',thresh=1,subset=['City']).show()"
   ]
  },
  {
   "cell_type": "markdown",
   "id": "d8ee8c66",
   "metadata": {},
   "source": [
    "In the above column Age contains Null values even after using thresh =1 because subset prarmater is there which contains city as a the vlaue"
   ]
  },
  {
   "cell_type": "markdown",
   "id": "decec187",
   "metadata": {},
   "source": [
    "Filling the missing values "
   ]
  },
  {
   "cell_type": "code",
   "execution_count": 14,
   "id": "97b7dffd",
   "metadata": {},
   "outputs": [
    {
     "name": "stdout",
     "output_type": "stream",
     "text": [
      "+---------+----+--------------+\n",
      "|     Name| Age|          City|\n",
      "+---------+----+--------------+\n",
      "|    Soumo|  23|     Bangalore|\n",
      "|  Subrata|  53|       Chennai|\n",
      "|Anindita |  50|       Chennai|\n",
      "|  Purnima|NULL|     Bangalore|\n",
      "|      Uma|  80|Missing values|\n",
      "+---------+----+--------------+\n",
      "\n"
     ]
    }
   ],
   "source": [
    "df_pyspark.na.fill('Missing values').show()"
   ]
  },
  {
   "cell_type": "code",
   "execution_count": 15,
   "id": "505da91c",
   "metadata": {},
   "outputs": [
    {
     "name": "stdout",
     "output_type": "stream",
     "text": [
      "+---------+----+---------+\n",
      "|     Name| Age|     City|\n",
      "+---------+----+---------+\n",
      "|    Soumo|  23|Bangalore|\n",
      "|  Subrata|  53|  Chennai|\n",
      "|Anindita |  50|  Chennai|\n",
      "|  Purnima|NULL|Bangalore|\n",
      "|      Uma|  80|     NULL|\n",
      "+---------+----+---------+\n",
      "\n"
     ]
    }
   ],
   "source": [
    "df_pyspark.na.fill('Missing values','Age').show()"
   ]
  },
  {
   "cell_type": "code",
   "execution_count": 16,
   "id": "f3736960",
   "metadata": {},
   "outputs": [
    {
     "name": "stdout",
     "output_type": "stream",
     "text": [
      "+---------+----+---------+\n",
      "|     Name| Age|     City|\n",
      "+---------+----+---------+\n",
      "|    Soumo|  23|Bangalore|\n",
      "|  Subrata|  53|  Chennai|\n",
      "|Anindita |  50|  Chennai|\n",
      "|  Purnima|NULL|Bangalore|\n",
      "|      Uma|  80|     NULL|\n",
      "+---------+----+---------+\n",
      "\n"
     ]
    }
   ],
   "source": [
    "df_pyspark.show()"
   ]
  },
  {
   "cell_type": "markdown",
   "id": "e8d777d4",
   "metadata": {},
   "source": [
    "Filling the null values with the mean "
   ]
  },
  {
   "cell_type": "code",
   "execution_count": 17,
   "id": "2c9ea685",
   "metadata": {},
   "outputs": [],
   "source": [
    "from pyspark.ml.feature import Imputer\n",
    "\n",
    "imputer = Imputer(\n",
    "    inputCols = ['Age'],\n",
    "    outputCols = [\"{}_imputed\".format(c)for c in ['Age']]\n",
    "\n",
    ").setStrategy('mean')"
   ]
  },
  {
   "cell_type": "code",
   "execution_count": 18,
   "id": "bbb893a3",
   "metadata": {},
   "outputs": [
    {
     "name": "stdout",
     "output_type": "stream",
     "text": [
      "+---------+----+---------+-----------+\n",
      "|     Name| Age|     City|Age_imputed|\n",
      "+---------+----+---------+-----------+\n",
      "|    Soumo|  23|Bangalore|         23|\n",
      "|  Subrata|  53|  Chennai|         53|\n",
      "|Anindita |  50|  Chennai|         50|\n",
      "|  Purnima|NULL|Bangalore|         51|\n",
      "|      Uma|  80|     NULL|         80|\n",
      "+---------+----+---------+-----------+\n",
      "\n"
     ]
    }
   ],
   "source": [
    "##Add imputation cols to df\n",
    "imputer.fit(df_pyspark).transform(df_pyspark).show()"
   ]
  },
  {
   "cell_type": "code",
   "execution_count": null,
   "id": "1a4ae818",
   "metadata": {},
   "outputs": [],
   "source": []
  }
 ],
 "metadata": {
  "kernelspec": {
   "display_name": "Python 3 (ipykernel)",
   "language": "python",
   "name": "python3"
  },
  "language_info": {
   "codemirror_mode": {
    "name": "ipython",
    "version": 3
   },
   "file_extension": ".py",
   "mimetype": "text/x-python",
   "name": "python",
   "nbconvert_exporter": "python",
   "pygments_lexer": "ipython3",
   "version": "3.9.13"
  }
 },
 "nbformat": 4,
 "nbformat_minor": 5
}
