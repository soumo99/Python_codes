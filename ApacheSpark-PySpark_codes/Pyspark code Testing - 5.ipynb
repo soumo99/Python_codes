{
 "cells": [
  {
   "cell_type": "markdown",
   "id": "cd8b2aae",
   "metadata": {},
   "source": [
    "# Pyspark code Testing - 5\n",
    "# Aggregate and Groupby Condition"
   ]
  },
  {
   "cell_type": "code",
   "execution_count": 1,
   "id": "ddfe85b3",
   "metadata": {},
   "outputs": [],
   "source": [
    "from pyspark.sql import SparkSession"
   ]
  },
  {
   "cell_type": "code",
   "execution_count": 2,
   "id": "cb143c70",
   "metadata": {},
   "outputs": [
    {
     "name": "stderr",
     "output_type": "stream",
     "text": [
      "23/12/18 20:07:05 WARN Utils: Your hostname, Soumobratas-MacBook-Air.local resolves to a loopback address: 127.0.0.1; using 192.168.1.2 instead (on interface en0)\n",
      "23/12/18 20:07:05 WARN Utils: Set SPARK_LOCAL_IP if you need to bind to another address\n",
      "Setting default log level to \"WARN\".\n",
      "To adjust logging level use sc.setLogLevel(newLevel). For SparkR, use setLogLevel(newLevel).\n",
      "23/12/18 20:07:05 WARN NativeCodeLoader: Unable to load native-hadoop library for your platform... using builtin-java classes where applicable\n",
      "23/12/18 20:07:06 WARN Utils: Service 'SparkUI' could not bind on port 4040. Attempting port 4041.\n",
      "23/12/18 20:07:06 WARN Utils: Service 'SparkUI' could not bind on port 4041. Attempting port 4042.\n"
     ]
    }
   ],
   "source": [
    "spark = SparkSession.builder.appName('Agg').getOrCreate()"
   ]
  },
  {
   "cell_type": "code",
   "execution_count": 3,
   "id": "b9246d5f",
   "metadata": {},
   "outputs": [
    {
     "data": {
      "text/html": [
       "\n",
       "            <div>\n",
       "                <p><b>SparkSession - in-memory</b></p>\n",
       "                \n",
       "        <div>\n",
       "            <p><b>SparkContext</b></p>\n",
       "\n",
       "            <p><a href=\"http://192.168.1.2:4042\">Spark UI</a></p>\n",
       "\n",
       "            <dl>\n",
       "              <dt>Version</dt>\n",
       "                <dd><code>v3.5.0</code></dd>\n",
       "              <dt>Master</dt>\n",
       "                <dd><code>local[*]</code></dd>\n",
       "              <dt>AppName</dt>\n",
       "                <dd><code>Agg</code></dd>\n",
       "            </dl>\n",
       "        </div>\n",
       "        \n",
       "            </div>\n",
       "        "
      ],
      "text/plain": [
       "<pyspark.sql.session.SparkSession at 0x119574e20>"
      ]
     },
     "execution_count": 3,
     "metadata": {},
     "output_type": "execute_result"
    }
   ],
   "source": [
    "spark"
   ]
  },
  {
   "cell_type": "code",
   "execution_count": 4,
   "id": "1d579c00",
   "metadata": {},
   "outputs": [],
   "source": [
    "df_pyspark = spark.read.csv('sample_dataframe.csv',header=True,inferSchema=True)"
   ]
  },
  {
   "cell_type": "code",
   "execution_count": 5,
   "id": "71a7a5dd",
   "metadata": {},
   "outputs": [
    {
     "name": "stdout",
     "output_type": "stream",
     "text": [
      "+---------+---+---------+------+\n",
      "|     Name|Age|     City|salary|\n",
      "+---------+---+---------+------+\n",
      "|    Soumo| 23|Bangalore|  1000|\n",
      "|  Subrata| 53|  Chennai|  2000|\n",
      "|Anindita | 50|  Chennai|  3000|\n",
      "|  Purnima| 75|Bangalore|   800|\n",
      "|      Uma| 80|  Chennai|   600|\n",
      "|    Soumo| 23|  Chennai|  1200|\n",
      "|  Subrata| 53|  Kolkata|   900|\n",
      "|Anindita | 50|  Kolkata|   800|\n",
      "+---------+---+---------+------+\n",
      "\n"
     ]
    }
   ],
   "source": [
    "df_pyspark.show()"
   ]
  },
  {
   "cell_type": "code",
   "execution_count": 6,
   "id": "9a7d4cce",
   "metadata": {},
   "outputs": [
    {
     "name": "stdout",
     "output_type": "stream",
     "text": [
      "root\n",
      " |-- Name: string (nullable = true)\n",
      " |-- Age: integer (nullable = true)\n",
      " |-- City: string (nullable = true)\n",
      " |-- salary: integer (nullable = true)\n",
      "\n"
     ]
    }
   ],
   "source": [
    "df_pyspark.printSchema()"
   ]
  },
  {
   "cell_type": "markdown",
   "id": "394040e0",
   "metadata": {},
   "source": [
    "GroupBy Functions\n",
    "    Grouped to find the maximum salary\n",
    "    \n",
    "    SUM"
   ]
  },
  {
   "cell_type": "code",
   "execution_count": 8,
   "id": "9e772be9",
   "metadata": {},
   "outputs": [
    {
     "name": "stdout",
     "output_type": "stream",
     "text": [
      "+---------+--------+-----------+\n",
      "|     Name|sum(Age)|sum(salary)|\n",
      "+---------+--------+-----------+\n",
      "|  Subrata|     106|       2900|\n",
      "|Anindita |     100|       3800|\n",
      "|  Purnima|      75|        800|\n",
      "|    Soumo|      46|       2200|\n",
      "|      Uma|      80|        600|\n",
      "+---------+--------+-----------+\n",
      "\n"
     ]
    }
   ],
   "source": [
    "df_pyspark.groupBy('Name').sum().show()"
   ]
  },
  {
   "cell_type": "code",
   "execution_count": 9,
   "id": "07da5875",
   "metadata": {},
   "outputs": [
    {
     "name": "stdout",
     "output_type": "stream",
     "text": [
      "+---------+--------+-----------+\n",
      "|     City|sum(Age)|sum(salary)|\n",
      "+---------+--------+-----------+\n",
      "|Bangalore|      98|       1800|\n",
      "|  Chennai|     206|       6800|\n",
      "|  Kolkata|     103|       1700|\n",
      "+---------+--------+-----------+\n",
      "\n"
     ]
    }
   ],
   "source": [
    "df_pyspark.groupBy('City').sum().show()"
   ]
  },
  {
   "cell_type": "markdown",
   "id": "5c4191f8",
   "metadata": {},
   "source": [
    "MEAN"
   ]
  },
  {
   "cell_type": "code",
   "execution_count": 10,
   "id": "e02379c5",
   "metadata": {},
   "outputs": [
    {
     "name": "stdout",
     "output_type": "stream",
     "text": [
      "+---------+--------+-----------+\n",
      "|     Name|avg(Age)|avg(salary)|\n",
      "+---------+--------+-----------+\n",
      "|  Subrata|    53.0|     1450.0|\n",
      "|Anindita |    50.0|     1900.0|\n",
      "|  Purnima|    75.0|      800.0|\n",
      "|    Soumo|    23.0|     1100.0|\n",
      "|      Uma|    80.0|      600.0|\n",
      "+---------+--------+-----------+\n",
      "\n"
     ]
    }
   ],
   "source": [
    "df_pyspark.groupBy('Name').mean().show()"
   ]
  },
  {
   "cell_type": "markdown",
   "id": "b7f8fd9f",
   "metadata": {},
   "source": [
    "COUNT"
   ]
  },
  {
   "cell_type": "code",
   "execution_count": 12,
   "id": "1c222128",
   "metadata": {},
   "outputs": [
    {
     "name": "stdout",
     "output_type": "stream",
     "text": [
      "+---------+-----+\n",
      "|     City|count|\n",
      "+---------+-----+\n",
      "|Bangalore|    2|\n",
      "|  Chennai|    4|\n",
      "|  Kolkata|    2|\n",
      "+---------+-----+\n",
      "\n"
     ]
    }
   ],
   "source": [
    "df_pyspark.groupBy('City').count().show()"
   ]
  },
  {
   "cell_type": "markdown",
   "id": "7be128f6",
   "metadata": {},
   "source": [
    "Direct Aggregate functions to columns"
   ]
  },
  {
   "cell_type": "code",
   "execution_count": 13,
   "id": "77323723",
   "metadata": {},
   "outputs": [
    {
     "name": "stdout",
     "output_type": "stream",
     "text": [
      "+-----------+\n",
      "|sum(salary)|\n",
      "+-----------+\n",
      "|      10300|\n",
      "+-----------+\n",
      "\n"
     ]
    }
   ],
   "source": [
    "df_pyspark.agg({'salary':'sum'}).show()"
   ]
  },
  {
   "cell_type": "markdown",
   "id": "012816e4",
   "metadata": {},
   "source": [
    "MAX salary"
   ]
  },
  {
   "cell_type": "code",
   "execution_count": 14,
   "id": "f6852d71",
   "metadata": {},
   "outputs": [
    {
     "name": "stdout",
     "output_type": "stream",
     "text": [
      "+---------+--------+-----------+\n",
      "|     Name|max(Age)|max(salary)|\n",
      "+---------+--------+-----------+\n",
      "|  Subrata|      53|       2000|\n",
      "|Anindita |      50|       3000|\n",
      "|  Purnima|      75|        800|\n",
      "|    Soumo|      23|       1200|\n",
      "|      Uma|      80|        600|\n",
      "+---------+--------+-----------+\n",
      "\n"
     ]
    }
   ],
   "source": [
    "df_pyspark.groupBy('Name').max().show()"
   ]
  },
  {
   "cell_type": "markdown",
   "id": "4d3ef3de",
   "metadata": {},
   "source": [
    "MIN salary"
   ]
  },
  {
   "cell_type": "code",
   "execution_count": 15,
   "id": "72da2d06",
   "metadata": {},
   "outputs": [
    {
     "name": "stdout",
     "output_type": "stream",
     "text": [
      "+---------+--------+-----------+\n",
      "|     Name|min(Age)|min(salary)|\n",
      "+---------+--------+-----------+\n",
      "|  Subrata|      53|        900|\n",
      "|Anindita |      50|        800|\n",
      "|  Purnima|      75|        800|\n",
      "|    Soumo|      23|       1000|\n",
      "|      Uma|      80|        600|\n",
      "+---------+--------+-----------+\n",
      "\n"
     ]
    }
   ],
   "source": [
    "df_pyspark.groupBy('Name').min().show()"
   ]
  },
  {
   "cell_type": "markdown",
   "id": "85c4b628",
   "metadata": {},
   "source": [
    "Averag "
   ]
  },
  {
   "cell_type": "code",
   "execution_count": 16,
   "id": "dcc9581c",
   "metadata": {},
   "outputs": [
    {
     "name": "stdout",
     "output_type": "stream",
     "text": [
      "+---------+--------+-----------+\n",
      "|     Name|avg(Age)|avg(salary)|\n",
      "+---------+--------+-----------+\n",
      "|  Subrata|    53.0|     1450.0|\n",
      "|Anindita |    50.0|     1900.0|\n",
      "|  Purnima|    75.0|      800.0|\n",
      "|    Soumo|    23.0|     1100.0|\n",
      "|      Uma|    80.0|      600.0|\n",
      "+---------+--------+-----------+\n",
      "\n"
     ]
    }
   ],
   "source": [
    "df_pyspark.groupBy('Name').avg().show()"
   ]
  },
  {
   "cell_type": "code",
   "execution_count": null,
   "id": "49a46ae0",
   "metadata": {},
   "outputs": [],
   "source": []
  }
 ],
 "metadata": {
  "kernelspec": {
   "display_name": "Python 3 (ipykernel)",
   "language": "python",
   "name": "python3"
  },
  "language_info": {
   "codemirror_mode": {
    "name": "ipython",
    "version": 3
   },
   "file_extension": ".py",
   "mimetype": "text/x-python",
   "name": "python",
   "nbconvert_exporter": "python",
   "pygments_lexer": "ipython3",
   "version": "3.9.13"
  }
 },
 "nbformat": 4,
 "nbformat_minor": 5
}
